{
 "cells": [
  {
   "cell_type": "markdown",
   "id": "8c12c301",
   "metadata": {},
   "source": [
    "# TYPE CASTING"
   ]
  },
  {
   "cell_type": "code",
   "execution_count": 2,
   "id": "249642a2",
   "metadata": {},
   "outputs": [],
   "source": [
    "# Type casting"
   ]
  },
  {
   "cell_type": "markdown",
   "id": "0f5ab1fc",
   "metadata": {},
   "source": [
    "# 1. Int type casting"
   ]
  },
  {
   "cell_type": "code",
   "execution_count": 3,
   "id": "23bc9814",
   "metadata": {},
   "outputs": [
    {
     "data": {
      "text/plain": [
       "2"
      ]
     },
     "execution_count": 3,
     "metadata": {},
     "output_type": "execute_result"
    }
   ],
   "source": [
    "int(2.3) # cast from float to int"
   ]
  },
  {
   "cell_type": "code",
   "execution_count": 4,
   "id": "31b5d20d",
   "metadata": {},
   "outputs": [
    {
     "ename": "TypeError",
     "evalue": "'float' object cannot be interpreted as an integer",
     "output_type": "error",
     "traceback": [
      "\u001b[31m---------------------------------------------------------------------------\u001b[39m",
      "\u001b[31mTypeError\u001b[39m                                 Traceback (most recent call last)",
      "\u001b[36mCell\u001b[39m\u001b[36m \u001b[39m\u001b[32mIn[4]\u001b[39m\u001b[32m, line 1\u001b[39m\n\u001b[32m----> \u001b[39m\u001b[32m1\u001b[39m \u001b[38;5;28;43mint\u001b[39;49m\u001b[43m(\u001b[49m\u001b[32;43m2.3\u001b[39;49m\u001b[43m,\u001b[49m\u001b[32;43m3.0\u001b[39;49m\u001b[43m)\u001b[49m \u001b[38;5;66;03m# cast from float to int\u001b[39;00m\n",
      "\u001b[31mTypeError\u001b[39m: 'float' object cannot be interpreted as an integer"
     ]
    }
   ],
   "source": [
    "int(2.3,3.0) # cast from float to int"
   ]
  },
  {
   "cell_type": "code",
   "execution_count": 5,
   "id": "7fba4a78",
   "metadata": {},
   "outputs": [
    {
     "data": {
      "text/plain": [
       "1"
      ]
     },
     "execution_count": 5,
     "metadata": {},
     "output_type": "execute_result"
    }
   ],
   "source": [
    "int(True) # cast from bool to int"
   ]
  },
  {
   "cell_type": "code",
   "execution_count": 6,
   "id": "fb1db9af",
   "metadata": {},
   "outputs": [
    {
     "data": {
      "text/plain": [
       "0"
      ]
     },
     "execution_count": 6,
     "metadata": {},
     "output_type": "execute_result"
    }
   ],
   "source": [
    "int(False) # cast from bool to int"
   ]
  },
  {
   "cell_type": "code",
   "execution_count": 7,
   "id": "193c3cd7",
   "metadata": {},
   "outputs": [
    {
     "data": {
      "text/plain": [
       "True"
      ]
     },
     "execution_count": 7,
     "metadata": {},
     "output_type": "execute_result"
    }
   ],
   "source": [
    "True"
   ]
  },
  {
   "cell_type": "code",
   "execution_count": 8,
   "id": "1bf80d9a",
   "metadata": {},
   "outputs": [
    {
     "data": {
      "text/plain": [
       "2"
      ]
     },
     "execution_count": 8,
     "metadata": {},
     "output_type": "execute_result"
    }
   ],
   "source": [
    "True + True"
   ]
  },
  {
   "cell_type": "code",
   "execution_count": 9,
   "id": "df37aa74",
   "metadata": {},
   "outputs": [
    {
     "ename": "TypeError",
     "evalue": "int() argument must be a string, a bytes-like object or a real number, not 'complex'",
     "output_type": "error",
     "traceback": [
      "\u001b[31m---------------------------------------------------------------------------\u001b[39m",
      "\u001b[31mTypeError\u001b[39m                                 Traceback (most recent call last)",
      "\u001b[36mCell\u001b[39m\u001b[36m \u001b[39m\u001b[32mIn[9]\u001b[39m\u001b[32m, line 1\u001b[39m\n\u001b[32m----> \u001b[39m\u001b[32m1\u001b[39m \u001b[38;5;28;43mint\u001b[39;49m\u001b[43m(\u001b[49m\u001b[32;43m1\u001b[39;49m\u001b[43m+\u001b[49m\u001b[32;43m2\u001b[39;49m\u001b[43mj\u001b[49m\u001b[43m)\u001b[49m \u001b[38;5;66;03m# cast complex to int\u001b[39;00m\n",
      "\u001b[31mTypeError\u001b[39m: int() argument must be a string, a bytes-like object or a real number, not 'complex'"
     ]
    }
   ],
   "source": [
    "int(1+2j) # cast complex to int"
   ]
  },
  {
   "cell_type": "code",
   "execution_count": 10,
   "id": "8e6a95bd",
   "metadata": {},
   "outputs": [
    {
     "data": {
      "text/plain": [
       "10"
      ]
     },
     "execution_count": 10,
     "metadata": {},
     "output_type": "execute_result"
    }
   ],
   "source": [
    "int('10') # cast from string to int"
   ]
  },
  {
   "cell_type": "code",
   "execution_count": 11,
   "id": "30023209",
   "metadata": {},
   "outputs": [
    {
     "ename": "ValueError",
     "evalue": "invalid literal for int() with base 10: 'ten'",
     "output_type": "error",
     "traceback": [
      "\u001b[31m---------------------------------------------------------------------------\u001b[39m",
      "\u001b[31mValueError\u001b[39m                                Traceback (most recent call last)",
      "\u001b[36mCell\u001b[39m\u001b[36m \u001b[39m\u001b[32mIn[11]\u001b[39m\u001b[32m, line 1\u001b[39m\n\u001b[32m----> \u001b[39m\u001b[32m1\u001b[39m \u001b[38;5;28;43mint\u001b[39;49m\u001b[43m(\u001b[49m\u001b[33;43m'\u001b[39;49m\u001b[33;43mten\u001b[39;49m\u001b[33;43m'\u001b[39;49m\u001b[43m)\u001b[49m \u001b[38;5;66;03m# cast from string to int\u001b[39;00m\n",
      "\u001b[31mValueError\u001b[39m: invalid literal for int() with base 10: 'ten'"
     ]
    }
   ],
   "source": [
    "int('ten') # cast from string to int"
   ]
  },
  {
   "cell_type": "markdown",
   "id": "e3e60310",
   "metadata": {},
   "source": [
    "# 2. Float type casting"
   ]
  },
  {
   "cell_type": "code",
   "execution_count": 12,
   "id": "9e33dbeb",
   "metadata": {},
   "outputs": [
    {
     "data": {
      "text/plain": [
       "10.0"
      ]
     },
     "execution_count": 12,
     "metadata": {},
     "output_type": "execute_result"
    }
   ],
   "source": [
    "float(10) # casting from int to float"
   ]
  },
  {
   "cell_type": "code",
   "execution_count": 13,
   "id": "1d27ee5e",
   "metadata": {},
   "outputs": [
    {
     "ename": "TypeError",
     "evalue": "float expected at most 1 argument, got 2",
     "output_type": "error",
     "traceback": [
      "\u001b[31m---------------------------------------------------------------------------\u001b[39m",
      "\u001b[31mTypeError\u001b[39m                                 Traceback (most recent call last)",
      "\u001b[36mCell\u001b[39m\u001b[36m \u001b[39m\u001b[32mIn[13]\u001b[39m\u001b[32m, line 1\u001b[39m\n\u001b[32m----> \u001b[39m\u001b[32m1\u001b[39m \u001b[38;5;28;43mfloat\u001b[39;49m\u001b[43m(\u001b[49m\u001b[32;43m10\u001b[39;49m\u001b[43m,\u001b[49m\u001b[32;43m20\u001b[39;49m\u001b[43m)\u001b[49m \u001b[38;5;66;03m# casting from int to float\u001b[39;00m\n",
      "\u001b[31mTypeError\u001b[39m: float expected at most 1 argument, got 2"
     ]
    }
   ],
   "source": [
    "float(10,20) # casting from int to float"
   ]
  },
  {
   "cell_type": "code",
   "execution_count": 14,
   "id": "765a930f",
   "metadata": {},
   "outputs": [
    {
     "data": {
      "text/plain": [
       "1.0"
      ]
     },
     "execution_count": 14,
     "metadata": {},
     "output_type": "execute_result"
    }
   ],
   "source": [
    "float(True) # cast from bool to float"
   ]
  },
  {
   "cell_type": "code",
   "execution_count": 15,
   "id": "58e392d9",
   "metadata": {},
   "outputs": [
    {
     "data": {
      "text/plain": [
       "0.0"
      ]
     },
     "execution_count": 15,
     "metadata": {},
     "output_type": "execute_result"
    }
   ],
   "source": [
    "float(False) #cast from bool to float"
   ]
  },
  {
   "cell_type": "code",
   "execution_count": 16,
   "id": "c3306161",
   "metadata": {},
   "outputs": [
    {
     "ename": "TypeError",
     "evalue": "float() argument must be a string or a real number, not 'complex'",
     "output_type": "error",
     "traceback": [
      "\u001b[31m---------------------------------------------------------------------------\u001b[39m",
      "\u001b[31mTypeError\u001b[39m                                 Traceback (most recent call last)",
      "\u001b[36mCell\u001b[39m\u001b[36m \u001b[39m\u001b[32mIn[16]\u001b[39m\u001b[32m, line 1\u001b[39m\n\u001b[32m----> \u001b[39m\u001b[32m1\u001b[39m \u001b[38;5;28;43mfloat\u001b[39;49m\u001b[43m(\u001b[49m\u001b[32;43m1\u001b[39;49m\u001b[43m+\u001b[49m\u001b[32;43m2\u001b[39;49m\u001b[43mj\u001b[49m\u001b[43m)\u001b[49m \u001b[38;5;66;03m# cast from complex to float\u001b[39;00m\n",
      "\u001b[31mTypeError\u001b[39m: float() argument must be a string or a real number, not 'complex'"
     ]
    }
   ],
   "source": [
    "float(1+2j) # cast from complex to float"
   ]
  },
  {
   "cell_type": "code",
   "execution_count": 17,
   "id": "39d56c61",
   "metadata": {},
   "outputs": [
    {
     "data": {
      "text/plain": [
       "10.0"
      ]
     },
     "execution_count": 17,
     "metadata": {},
     "output_type": "execute_result"
    }
   ],
   "source": [
    "float('10') # cast from string to float"
   ]
  },
  {
   "cell_type": "code",
   "execution_count": 18,
   "id": "76a610e2",
   "metadata": {},
   "outputs": [
    {
     "ename": "ValueError",
     "evalue": "could not convert string to float: 'ten'",
     "output_type": "error",
     "traceback": [
      "\u001b[31m---------------------------------------------------------------------------\u001b[39m",
      "\u001b[31mValueError\u001b[39m                                Traceback (most recent call last)",
      "\u001b[36mCell\u001b[39m\u001b[36m \u001b[39m\u001b[32mIn[18]\u001b[39m\u001b[32m, line 1\u001b[39m\n\u001b[32m----> \u001b[39m\u001b[32m1\u001b[39m \u001b[38;5;28;43mfloat\u001b[39;49m\u001b[43m(\u001b[49m\u001b[33;43m'\u001b[39;49m\u001b[33;43mten\u001b[39;49m\u001b[33;43m'\u001b[39;49m\u001b[43m)\u001b[49m \u001b[38;5;66;03m# cast from string to float\u001b[39;00m\n",
      "\u001b[31mValueError\u001b[39m: could not convert string to float: 'ten'"
     ]
    }
   ],
   "source": [
    "float('ten') # cast from string to float"
   ]
  },
  {
   "cell_type": "markdown",
   "id": "6c10fee8",
   "metadata": {},
   "source": [
    "# 3. Complex type casting"
   ]
  },
  {
   "cell_type": "code",
   "execution_count": 20,
   "id": "8c711ddd",
   "metadata": {},
   "outputs": [
    {
     "data": {
      "text/plain": [
       "(10+0j)"
      ]
     },
     "execution_count": 20,
     "metadata": {},
     "output_type": "execute_result"
    }
   ],
   "source": [
    "complex(10) # cast from int to complex"
   ]
  },
  {
   "cell_type": "code",
   "execution_count": 21,
   "id": "56e923a6",
   "metadata": {},
   "outputs": [
    {
     "data": {
      "text/plain": [
       "(10+20j)"
      ]
     },
     "execution_count": 21,
     "metadata": {},
     "output_type": "execute_result"
    }
   ],
   "source": [
    "complex(10,20) # cast from int to complex"
   ]
  },
  {
   "cell_type": "code",
   "execution_count": 22,
   "id": "51d5d68f",
   "metadata": {},
   "outputs": [
    {
     "ename": "TypeError",
     "evalue": "complex() takes at most 2 arguments (5 given)",
     "output_type": "error",
     "traceback": [
      "\u001b[31m---------------------------------------------------------------------------\u001b[39m",
      "\u001b[31mTypeError\u001b[39m                                 Traceback (most recent call last)",
      "\u001b[36mCell\u001b[39m\u001b[36m \u001b[39m\u001b[32mIn[22]\u001b[39m\u001b[32m, line 1\u001b[39m\n\u001b[32m----> \u001b[39m\u001b[32m1\u001b[39m \u001b[38;5;28;43mcomplex\u001b[39;49m\u001b[43m(\u001b[49m\u001b[32;43m10\u001b[39;49m\u001b[43m,\u001b[49m\u001b[32;43m20\u001b[39;49m\u001b[43m,\u001b[49m\u001b[32;43m30\u001b[39;49m\u001b[43m,\u001b[49m\u001b[32;43m40\u001b[39;49m\u001b[43m,\u001b[49m\u001b[32;43m50\u001b[39;49m\u001b[43m)\u001b[49m \u001b[38;5;66;03m# cast from int to complex\u001b[39;00m\n",
      "\u001b[31mTypeError\u001b[39m: complex() takes at most 2 arguments (5 given)"
     ]
    }
   ],
   "source": [
    "complex(10,20,30,40,50) # cast from int to complex"
   ]
  },
  {
   "cell_type": "code",
   "execution_count": 23,
   "id": "2a48801b",
   "metadata": {},
   "outputs": [
    {
     "data": {
      "text/plain": [
       "(2.5+0j)"
      ]
     },
     "execution_count": 23,
     "metadata": {},
     "output_type": "execute_result"
    }
   ],
   "source": [
    "complex(2.5) # cast from float to complex"
   ]
  },
  {
   "cell_type": "code",
   "execution_count": 24,
   "id": "a4445d12",
   "metadata": {},
   "outputs": [
    {
     "data": {
      "text/plain": [
       "(2.5+10j)"
      ]
     },
     "execution_count": 24,
     "metadata": {},
     "output_type": "execute_result"
    }
   ],
   "source": [
    "complex(2.5,10) # cast  2 argument in complex"
   ]
  },
  {
   "cell_type": "code",
   "execution_count": 25,
   "id": "2a4236c3",
   "metadata": {},
   "outputs": [
    {
     "data": {
      "text/plain": [
       "(1+1j)"
      ]
     },
     "execution_count": 25,
     "metadata": {},
     "output_type": "execute_result"
    }
   ],
   "source": [
    "complex(True,True) # cast from bool to complex"
   ]
  },
  {
   "cell_type": "code",
   "execution_count": 26,
   "id": "558ac551",
   "metadata": {},
   "outputs": [
    {
     "data": {
      "text/plain": [
       "0j"
      ]
     },
     "execution_count": 26,
     "metadata": {},
     "output_type": "execute_result"
    }
   ],
   "source": [
    "complex(False)"
   ]
  },
  {
   "cell_type": "code",
   "execution_count": 28,
   "id": "faacd7bf",
   "metadata": {},
   "outputs": [
    {
     "data": {
      "text/plain": [
       "(10+0j)"
      ]
     },
     "execution_count": 28,
     "metadata": {},
     "output_type": "execute_result"
    }
   ],
   "source": [
    "complex('10') # cast from string to complex"
   ]
  },
  {
   "cell_type": "code",
   "execution_count": 29,
   "id": "1557fb94",
   "metadata": {},
   "outputs": [
    {
     "ename": "TypeError",
     "evalue": "complex() can't take second arg if first is a string",
     "output_type": "error",
     "traceback": [
      "\u001b[31m---------------------------------------------------------------------------\u001b[39m",
      "\u001b[31mTypeError\u001b[39m                                 Traceback (most recent call last)",
      "\u001b[36mCell\u001b[39m\u001b[36m \u001b[39m\u001b[32mIn[29]\u001b[39m\u001b[32m, line 1\u001b[39m\n\u001b[32m----> \u001b[39m\u001b[32m1\u001b[39m \u001b[38;5;28;43mcomplex\u001b[39;49m\u001b[43m(\u001b[49m\u001b[33;43m'\u001b[39;49m\u001b[33;43m10\u001b[39;49m\u001b[33;43m'\u001b[39;49m\u001b[43m,\u001b[49m\u001b[33;43m'\u001b[39;49m\u001b[33;43m20\u001b[39;49m\u001b[33;43m'\u001b[39;49m\u001b[43m)\u001b[49m \u001b[38;5;66;03m# cast from string to complex\u001b[39;00m\n",
      "\u001b[31mTypeError\u001b[39m: complex() can't take second arg if first is a string"
     ]
    }
   ],
   "source": [
    "complex('10','20') # cast from string to complex"
   ]
  },
  {
   "cell_type": "markdown",
   "id": "51ca909c",
   "metadata": {},
   "source": [
    "# Bool type casting"
   ]
  },
  {
   "cell_type": "code",
   "execution_count": 33,
   "id": "04b6e8de",
   "metadata": {},
   "outputs": [
    {
     "data": {
      "text/plain": [
       "False"
      ]
     },
     "execution_count": 33,
     "metadata": {},
     "output_type": "execute_result"
    }
   ],
   "source": [
    "bool(0) # cast from int to bool"
   ]
  },
  {
   "cell_type": "code",
   "execution_count": 31,
   "id": "aa63fd72",
   "metadata": {},
   "outputs": [
    {
     "data": {
      "text/plain": [
       "True"
      ]
     },
     "execution_count": 31,
     "metadata": {},
     "output_type": "execute_result"
    }
   ],
   "source": [
    "bool(1) # cast from int to bool"
   ]
  },
  {
   "cell_type": "code",
   "execution_count": 32,
   "id": "01dcf8df",
   "metadata": {},
   "outputs": [
    {
     "data": {
      "text/plain": [
       "True"
      ]
     },
     "execution_count": 32,
     "metadata": {},
     "output_type": "execute_result"
    }
   ],
   "source": [
    "bool(1.5) # cast from float to bool"
   ]
  },
  {
   "cell_type": "code",
   "execution_count": 34,
   "id": "eaf9105c",
   "metadata": {},
   "outputs": [
    {
     "data": {
      "text/plain": [
       "True"
      ]
     },
     "execution_count": 34,
     "metadata": {},
     "output_type": "execute_result"
    }
   ],
   "source": [
    "bool(1+2j) # cast from complex to bool"
   ]
  },
  {
   "cell_type": "code",
   "execution_count": 35,
   "id": "7b0aff80",
   "metadata": {},
   "outputs": [
    {
     "data": {
      "text/plain": [
       "True"
      ]
     },
     "execution_count": 35,
     "metadata": {},
     "output_type": "execute_result"
    }
   ],
   "source": [
    "bool(1-2j) # cast from complex to bool"
   ]
  }
 ],
 "metadata": {
  "kernelspec": {
   "display_name": ".venv",
   "language": "python",
   "name": "python3"
  },
  "language_info": {
   "codemirror_mode": {
    "name": "ipython",
    "version": 3
   },
   "file_extension": ".py",
   "mimetype": "text/x-python",
   "name": "python",
   "nbconvert_exporter": "python",
   "pygments_lexer": "ipython3",
   "version": "3.11.9"
  }
 },
 "nbformat": 4,
 "nbformat_minor": 5
}
