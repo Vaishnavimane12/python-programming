{
 "cells": [
  {
   "cell_type": "markdown",
   "id": "2fd5310c",
   "metadata": {},
   "source": [
    "# BASIC PYTHON PROGRAMMIMG "
   ]
  },
  {
   "cell_type": "code",
   "execution_count": 34,
   "id": "aaac2d26",
   "metadata": {},
   "outputs": [
    {
     "data": {
      "text/plain": [
       "'3.11.9 (tags/v3.11.9:de54cf5, Apr  2 2024, 10:12:12) [MSC v.1938 64 bit (AMD64)]'"
      ]
     },
     "execution_count": 34,
     "metadata": {},
     "output_type": "execute_result"
    }
   ],
   "source": [
    "import sys\n",
    "sys.version"
   ]
  },
  {
   "cell_type": "markdown",
   "id": "eaac7126",
   "metadata": {},
   "source": [
    "# work with numbers"
   ]
  },
  {
   "cell_type": "code",
   "execution_count": 89,
   "id": "d05e1c17",
   "metadata": {},
   "outputs": [
    {
     "data": {
      "text/plain": [
       "3"
      ]
     },
     "execution_count": 89,
     "metadata": {},
     "output_type": "execute_result"
    }
   ],
   "source": [
    "3 # number argument"
   ]
  },
  {
   "cell_type": "code",
   "execution_count": 88,
   "id": "371efeee",
   "metadata": {},
   "outputs": [
    {
     "data": {
      "text/plain": [
       "2"
      ]
     },
     "execution_count": 88,
     "metadata": {},
     "output_type": "execute_result"
    }
   ],
   "source": [
    "2 #nuber argument"
   ]
  },
  {
   "cell_type": "code",
   "execution_count": 37,
   "id": "56a88e07",
   "metadata": {},
   "outputs": [
    {
     "data": {
      "text/plain": [
       "25"
      ]
     },
     "execution_count": 37,
     "metadata": {},
     "output_type": "execute_result"
    }
   ],
   "source": [
    "23 + 2 # Addition"
   ]
  },
  {
   "cell_type": "code",
   "execution_count": 38,
   "id": "96cd2055",
   "metadata": {},
   "outputs": [
    {
     "data": {
      "text/plain": [
       "1"
      ]
     },
     "execution_count": 38,
     "metadata": {},
     "output_type": "execute_result"
    }
   ],
   "source": [
    "3 - 2 # subtraction"
   ]
  },
  {
   "cell_type": "code",
   "execution_count": 39,
   "id": "7fc76f3d",
   "metadata": {},
   "outputs": [
    {
     "data": {
      "text/plain": [
       "6"
      ]
     },
     "execution_count": 39,
     "metadata": {},
     "output_type": "execute_result"
    }
   ],
   "source": [
    "3*2 # multiplication"
   ]
  },
  {
   "cell_type": "code",
   "execution_count": 40,
   "id": "8f1a2e76",
   "metadata": {},
   "outputs": [
    {
     "data": {
      "text/plain": [
       "9"
      ]
     },
     "execution_count": 40,
     "metadata": {},
     "output_type": "execute_result"
    }
   ],
   "source": [
    "3**2 # exponentiation"
   ]
  },
  {
   "cell_type": "code",
   "execution_count": 41,
   "id": "dc31e998",
   "metadata": {},
   "outputs": [
    {
     "data": {
      "text/plain": [
       "5.0"
      ]
     },
     "execution_count": 41,
     "metadata": {},
     "output_type": "execute_result"
    }
   ],
   "source": [
    "10/2 # division"
   ]
  },
  {
   "cell_type": "code",
   "execution_count": 42,
   "id": "4643e600",
   "metadata": {},
   "outputs": [
    {
     "data": {
      "text/plain": [
       "5"
      ]
     },
     "execution_count": 42,
     "metadata": {},
     "output_type": "execute_result"
    }
   ],
   "source": [
    "10//2 # floor division"
   ]
  },
  {
   "cell_type": "code",
   "execution_count": 43,
   "id": "a61b1bba",
   "metadata": {},
   "outputs": [
    {
     "data": {
      "text/plain": [
       "0"
      ]
     },
     "execution_count": 43,
     "metadata": {},
     "output_type": "execute_result"
    }
   ],
   "source": [
    "10%2 # modulo"
   ]
  },
  {
   "cell_type": "markdown",
   "id": "84f7b950",
   "metadata": {},
   "source": [
    "# Work with string"
   ]
  },
  {
   "cell_type": "code",
   "execution_count": 44,
   "id": "51984d0b",
   "metadata": {},
   "outputs": [
    {
     "ename": "NameError",
     "evalue": "name 'nareshit' is not defined",
     "output_type": "error",
     "traceback": [
      "\u001b[31m---------------------------------------------------------------------------\u001b[39m",
      "\u001b[31mNameError\u001b[39m                                 Traceback (most recent call last)",
      "\u001b[36mCell\u001b[39m\u001b[36m \u001b[39m\u001b[32mIn[44]\u001b[39m\u001b[32m, line 1\u001b[39m\n\u001b[32m----> \u001b[39m\u001b[32m1\u001b[39m \u001b[43mnareshit\u001b[49m\n",
      "\u001b[31mNameError\u001b[39m: name 'nareshit' is not defined"
     ]
    }
   ],
   "source": [
    "nareshit"
   ]
  },
  {
   "cell_type": "code",
   "execution_count": 45,
   "id": "6db0ab5d",
   "metadata": {},
   "outputs": [
    {
     "data": {
      "text/plain": [
       "'narshit'"
      ]
     },
     "execution_count": 45,
     "metadata": {},
     "output_type": "execute_result"
    }
   ],
   "source": [
    "'narshit' # string"
   ]
  },
  {
   "cell_type": "code",
   "execution_count": 46,
   "id": "ff661766",
   "metadata": {},
   "outputs": [
    {
     "data": {
      "text/plain": [
       "'nareshit'"
      ]
     },
     "execution_count": 46,
     "metadata": {},
     "output_type": "execute_result"
    }
   ],
   "source": [
    "\"nareshit\" # string"
   ]
  },
  {
   "cell_type": "markdown",
   "id": "90c34978",
   "metadata": {},
   "source": [
    "# variable = object"
   ]
  },
  {
   "cell_type": "code",
   "execution_count": 47,
   "id": "786cb6e5",
   "metadata": {},
   "outputs": [
    {
     "data": {
      "text/plain": [
       "5"
      ]
     },
     "execution_count": 47,
     "metadata": {},
     "output_type": "execute_result"
    }
   ],
   "source": [
    "v = 5 # v-variable & 5-value\n",
    "v"
   ]
  },
  {
   "cell_type": "code",
   "execution_count": 48,
   "id": "d0655f56",
   "metadata": {},
   "outputs": [
    {
     "data": {
      "text/plain": [
       "int"
      ]
     },
     "execution_count": 48,
     "metadata": {},
     "output_type": "execute_result"
    }
   ],
   "source": [
    "type(v) # type of v"
   ]
  },
  {
   "cell_type": "code",
   "execution_count": 49,
   "id": "010512fb",
   "metadata": {},
   "outputs": [
    {
     "ename": "NameError",
     "evalue": "name 'v2' is not defined",
     "output_type": "error",
     "traceback": [
      "\u001b[31m---------------------------------------------------------------------------\u001b[39m",
      "\u001b[31mNameError\u001b[39m                                 Traceback (most recent call last)",
      "\u001b[36mCell\u001b[39m\u001b[36m \u001b[39m\u001b[32mIn[49]\u001b[39m\u001b[32m, line 2\u001b[39m\n\u001b[32m      1\u001b[39m v1 = \u001b[33m'\u001b[39m\u001b[33mnit\u001b[39m\u001b[33m'\u001b[39m\n\u001b[32m----> \u001b[39m\u001b[32m2\u001b[39m \u001b[43mv2\u001b[49m\n",
      "\u001b[31mNameError\u001b[39m: name 'v2' is not defined"
     ]
    }
   ],
   "source": [
    "v1 = 'nit'\n",
    "v2"
   ]
  },
  {
   "cell_type": "code",
   "execution_count": 50,
   "id": "6ceabc14",
   "metadata": {},
   "outputs": [
    {
     "data": {
      "text/plain": [
       "'nit'"
      ]
     },
     "execution_count": 50,
     "metadata": {},
     "output_type": "execute_result"
    }
   ],
   "source": [
    "v1"
   ]
  },
  {
   "cell_type": "code",
   "execution_count": 51,
   "id": "1125c8be",
   "metadata": {},
   "outputs": [
    {
     "data": {
      "text/plain": [
       "float"
      ]
     },
     "execution_count": 51,
     "metadata": {},
     "output_type": "execute_result"
    }
   ],
   "source": [
    "a = 5.5\n",
    "type(a)"
   ]
  },
  {
   "cell_type": "code",
   "execution_count": 61,
   "id": "50c123a5",
   "metadata": {},
   "outputs": [
    {
     "data": {
      "text/plain": [
       "'3.11.9 (tags/v3.11.9:de54cf5, Apr  2 2024, 10:12:12) [MSC v.1938 64 bit (AMD64)]'"
      ]
     },
     "execution_count": 61,
     "metadata": {},
     "output_type": "execute_result"
    }
   ],
   "source": [
    "import sys\n",
    "sys.version"
   ]
  },
  {
   "cell_type": "code",
   "execution_count": null,
   "id": "5865caed",
   "metadata": {},
   "outputs": [
    {
     "ename": "NameError",
     "evalue": "name 'NIT' is not defined",
     "output_type": "error",
     "traceback": [
      "\u001b[31m---------------------------------------------------------------------------\u001b[39m",
      "\u001b[31mNameError\u001b[39m                                 Traceback (most recent call last)",
      "\u001b[36mCell\u001b[39m\u001b[36m \u001b[39m\u001b[32mIn[62]\u001b[39m\u001b[32m, line 2\u001b[39m\n\u001b[32m      1\u001b[39m nit = \u001b[32m15\u001b[39m\n\u001b[32m----> \u001b[39m\u001b[32m2\u001b[39m \u001b[43mNIT\u001b[49m\n",
      "\u001b[31mNameError\u001b[39m: name 'NIT' is not defined"
     ]
    }
   ],
   "source": [
    "nit = 15\n",
    "NIT"
   ]
  },
  {
   "cell_type": "code",
   "execution_count": 63,
   "id": "31f54c3f",
   "metadata": {},
   "outputs": [
    {
     "data": {
      "text/plain": [
       "15"
      ]
     },
     "execution_count": 63,
     "metadata": {},
     "output_type": "execute_result"
    }
   ],
   "source": [
    "nit"
   ]
  },
  {
   "cell_type": "code",
   "execution_count": null,
   "id": "ff243c9a",
   "metadata": {},
   "outputs": [
    {
     "ename": "SyntaxError",
     "evalue": "invalid decimal literal (3794310268.py, line 1)",
     "output_type": "error",
     "traceback": [
      "  \u001b[36mCell\u001b[39m\u001b[36m \u001b[39m\u001b[32mIn[64]\u001b[39m\u001b[32m, line 1\u001b[39m\n\u001b[31m    \u001b[39m\u001b[31m1a = 67\u001b[39m\n    ^\n\u001b[31mSyntaxError\u001b[39m\u001b[31m:\u001b[39m invalid decimal literal\n"
     ]
    }
   ],
   "source": [
    "1a = 67 # invalid variable name\n",
    "1a"
   ]
  },
  {
   "cell_type": "code",
   "execution_count": 65,
   "id": "aede6370",
   "metadata": {},
   "outputs": [
    {
     "data": {
      "text/plain": [
       "67"
      ]
     },
     "execution_count": 65,
     "metadata": {},
     "output_type": "execute_result"
    }
   ],
   "source": [
    "a1 = 67\n",
    "a1"
   ]
  },
  {
   "cell_type": "code",
   "execution_count": null,
   "id": "3bc9268d",
   "metadata": {},
   "outputs": [
    {
     "ename": "SyntaxError",
     "evalue": "invalid syntax (629152561.py, line 1)",
     "output_type": "error",
     "traceback": [
      "  \u001b[36mCell\u001b[39m\u001b[36m \u001b[39m\u001b[32mIn[66]\u001b[39m\u001b[32m, line 1\u001b[39m\n\u001b[31m    \u001b[39m\u001b[31mnit$ = 89\u001b[39m\n       ^\n\u001b[31mSyntaxError\u001b[39m\u001b[31m:\u001b[39m invalid syntax\n"
     ]
    }
   ],
   "source": [
    "nit$ = 89 # Invalid variable name  \n",
    "nit$"
   ]
  },
  {
   "cell_type": "code",
   "execution_count": 67,
   "id": "3a210066",
   "metadata": {},
   "outputs": [
    {
     "data": {
      "text/plain": [
       "30"
      ]
     },
     "execution_count": 67,
     "metadata": {},
     "output_type": "execute_result"
    }
   ],
   "source": [
    "x_train, x_test, y_train, y_test = 80,20,70,30 # multiple assingning \n",
    "x_train\n",
    "x_test\n",
    "y_train\n",
    "y_test"
   ]
  },
  {
   "cell_type": "code",
   "execution_count": 68,
   "id": "5d087e12",
   "metadata": {},
   "outputs": [
    {
     "name": "stdout",
     "output_type": "stream",
     "text": [
      "80\n",
      "20\n",
      "70\n",
      "30\n"
     ]
    }
   ],
   "source": [
    "print(x_train)\n",
    "print(x_test)\n",
    "print(y_train)\n",
    "print(y_test)"
   ]
  },
  {
   "cell_type": "code",
   "execution_count": 69,
   "id": "225695f4",
   "metadata": {},
   "outputs": [
    {
     "data": {
      "text/plain": [
       "['False',\n",
       " 'None',\n",
       " 'True',\n",
       " 'and',\n",
       " 'as',\n",
       " 'assert',\n",
       " 'async',\n",
       " 'await',\n",
       " 'break',\n",
       " 'class',\n",
       " 'continue',\n",
       " 'def',\n",
       " 'del',\n",
       " 'elif',\n",
       " 'else',\n",
       " 'except',\n",
       " 'finally',\n",
       " 'for',\n",
       " 'from',\n",
       " 'global',\n",
       " 'if',\n",
       " 'import',\n",
       " 'in',\n",
       " 'is',\n",
       " 'lambda',\n",
       " 'nonlocal',\n",
       " 'not',\n",
       " 'or',\n",
       " 'pass',\n",
       " 'raise',\n",
       " 'return',\n",
       " 'try',\n",
       " 'while',\n",
       " 'with',\n",
       " 'yield']"
      ]
     },
     "execution_count": 69,
     "metadata": {},
     "output_type": "execute_result"
    }
   ],
   "source": [
    "import keyword\n",
    "keyword.kwlist # list of keywords in python"
   ]
  },
  {
   "cell_type": "code",
   "execution_count": 70,
   "id": "02061968",
   "metadata": {},
   "outputs": [
    {
     "ename": "SyntaxError",
     "evalue": "invalid syntax (3964871498.py, line 1)",
     "output_type": "error",
     "traceback": [
      "  \u001b[36mCell\u001b[39m\u001b[36m \u001b[39m\u001b[32mIn[70]\u001b[39m\u001b[32m, line 1\u001b[39m\n\u001b[31m    \u001b[39m\u001b[31mif = 90\u001b[39m\n       ^\n\u001b[31mSyntaxError\u001b[39m\u001b[31m:\u001b[39m invalid syntax\n"
     ]
    }
   ],
   "source": [
    "if = 90\n",
    "if"
   ]
  },
  {
   "cell_type": "code",
   "execution_count": 71,
   "id": "e4b55979",
   "metadata": {},
   "outputs": [],
   "source": [
    "a10 = 78\n",
    "a9 = 89"
   ]
  },
  {
   "cell_type": "code",
   "execution_count": 72,
   "id": "628e180b",
   "metadata": {},
   "outputs": [
    {
     "name": "stdout",
     "output_type": "stream",
     "text": [
      "78\n",
      "89\n"
     ]
    }
   ],
   "source": [
    "print(a10)\n",
    "print(a9)"
   ]
  },
  {
   "cell_type": "code",
   "execution_count": 73,
   "id": "8c0b86a8",
   "metadata": {},
   "outputs": [],
   "source": [
    "del a10 # delete variable a10\n"
   ]
  },
  {
   "cell_type": "code",
   "execution_count": 74,
   "id": "4c0fe2e2",
   "metadata": {},
   "outputs": [
    {
     "ename": "NameError",
     "evalue": "name 'a10' is not defined",
     "output_type": "error",
     "traceback": [
      "\u001b[31m---------------------------------------------------------------------------\u001b[39m",
      "\u001b[31mNameError\u001b[39m                                 Traceback (most recent call last)",
      "\u001b[36mCell\u001b[39m\u001b[36m \u001b[39m\u001b[32mIn[74]\u001b[39m\u001b[32m, line 1\u001b[39m\n\u001b[32m----> \u001b[39m\u001b[32m1\u001b[39m \u001b[43ma10\u001b[49m\n",
      "\u001b[31mNameError\u001b[39m: name 'a10' is not defined"
     ]
    }
   ],
   "source": [
    "a10"
   ]
  },
  {
   "cell_type": "code",
   "execution_count": 75,
   "id": "df716091",
   "metadata": {},
   "outputs": [
    {
     "ename": "SyntaxError",
     "evalue": "invalid syntax (2697860034.py, line 1)",
     "output_type": "error",
     "traceback": [
      "  \u001b[36mCell\u001b[39m\u001b[36m \u001b[39m\u001b[32mIn[75]\u001b[39m\u001b[32m, line 1\u001b[39m\n\u001b[31m    \u001b[39m\u001b[31mfor = 90\u001b[39m\n        ^\n\u001b[31mSyntaxError\u001b[39m\u001b[31m:\u001b[39m invalid syntax\n"
     ]
    }
   ],
   "source": [
    "for = 90"
   ]
  },
  {
   "cell_type": "code",
   "execution_count": 82,
   "id": "73eaa1c9",
   "metadata": {},
   "outputs": [
    {
     "data": {
      "text/plain": [
       "90"
      ]
     },
     "execution_count": 82,
     "metadata": {},
     "output_type": "execute_result"
    }
   ],
   "source": [
    "For = 90 # integral\n",
    "For"
   ]
  },
  {
   "cell_type": "code",
   "execution_count": 79,
   "id": "29bade02",
   "metadata": {},
   "outputs": [
    {
     "data": {
      "text/plain": [
       "True"
      ]
     },
     "execution_count": 79,
     "metadata": {},
     "output_type": "execute_result"
    }
   ],
   "source": [
    "a = True # boolean variable\n",
    "a"
   ]
  },
  {
   "cell_type": "code",
   "execution_count": 80,
   "id": "3705d16b",
   "metadata": {},
   "outputs": [
    {
     "data": {
      "text/plain": [
       "'true'"
      ]
     },
     "execution_count": 80,
     "metadata": {},
     "output_type": "execute_result"
    }
   ],
   "source": [
    "b = 'true' # string\n",
    "b"
   ]
  },
  {
   "cell_type": "code",
   "execution_count": 83,
   "id": "a2a58dc2",
   "metadata": {},
   "outputs": [
    {
     "data": {
      "text/plain": [
       "3.14"
      ]
     },
     "execution_count": 83,
     "metadata": {},
     "output_type": "execute_result"
    }
   ],
   "source": [
    "pi = 3.14 # float\n",
    "pi"
   ]
  },
  {
   "cell_type": "code",
   "execution_count": 86,
   "id": "46a954f2",
   "metadata": {},
   "outputs": [
    {
     "data": {
      "text/plain": [
       "3.2"
      ]
     },
     "execution_count": 86,
     "metadata": {},
     "output_type": "execute_result"
    }
   ],
   "source": [
    "pi= 3.20 # float variable\n",
    "pi"
   ]
  },
  {
   "cell_type": "markdown",
   "id": "93e9ae9a",
   "metadata": {},
   "source": [
    "# 1. Storing and printing a value"
   ]
  },
  {
   "cell_type": "code",
   "execution_count": 55,
   "id": "072f7594",
   "metadata": {},
   "outputs": [
    {
     "name": "stdout",
     "output_type": "stream",
     "text": [
      "10\n"
     ]
    }
   ],
   "source": [
    "# storing the value 10 in a variable called 'x' \n",
    "x =10\n",
    "# printing the value of 'x' \n",
    "print(x)"
   ]
  },
  {
   "cell_type": "markdown",
   "id": "ebf7f846",
   "metadata": {},
   "source": [
    "# 2.Using variables in expressions"
   ]
  },
  {
   "cell_type": "code",
   "execution_count": 56,
   "id": "9b8ce92c",
   "metadata": {},
   "outputs": [
    {
     "name": "stdout",
     "output_type": "stream",
     "text": [
      "8\n"
     ]
    }
   ],
   "source": [
    "# assinging value to variables\n",
    "a = 5\n",
    "b = 3\n",
    "# Adding two variable and storing the result in 'result' \n",
    "result = a+b \n",
    "# printing the result \n",
    "print(result)"
   ]
  },
  {
   "cell_type": "markdown",
   "id": "dab29185",
   "metadata": {},
   "source": [
    "# 3. changing the value of a variable"
   ]
  },
  {
   "cell_type": "code",
   "execution_count": 57,
   "id": "d491c8b4",
   "metadata": {},
   "outputs": [
    {
     "name": "stdout",
     "output_type": "stream",
     "text": [
      "50\n",
      "100\n"
     ]
    }
   ],
   "source": [
    "# Assinging value to variables\n",
    "score = 50\n",
    "print(score)\n",
    "# changing the value of score \n",
    "score = 100\n",
    "print(score) "
   ]
  },
  {
   "cell_type": "markdown",
   "id": "e15c43e1",
   "metadata": {},
   "source": [
    "# 4. Concantenating strings"
   ]
  },
  {
   "cell_type": "code",
   "execution_count": 58,
   "id": "e4adb7ec",
   "metadata": {},
   "outputs": [
    {
     "name": "stdout",
     "output_type": "stream",
     "text": [
      "Vaishnavi Mane\n"
     ]
    }
   ],
   "source": [
    "# Assinging value to variable\n",
    "first_name = 'Vaishnavi'\n",
    "last_name = 'Mane'\n",
    "# concatenating strings and storing in a new variable\n",
    "full_name = first_name +\" \"+ last_name\n",
    "# printing the full name\n",
    "print(full_name)"
   ]
  },
  {
   "cell_type": "markdown",
   "id": "cd6b5bab",
   "metadata": {},
   "source": [
    "# 5.Using variable in a calculation"
   ]
  },
  {
   "cell_type": "code",
   "execution_count": 59,
   "id": "27197011",
   "metadata": {},
   "outputs": [
    {
     "name": "stdout",
     "output_type": "stream",
     "text": [
      "50\n"
     ]
    }
   ],
   "source": [
    "# Assinging value to variable\n",
    "length =10\n",
    "width = 5 \n",
    "# calculating area of rectangle\n",
    "area = length * width\n",
    "# printing area of rectangle \n",
    "print(area)"
   ]
  },
  {
   "cell_type": "markdown",
   "id": "a33b2f58",
   "metadata": {},
   "source": [
    "#  6. Reassing value to variables"
   ]
  },
  {
   "cell_type": "code",
   "execution_count": 60,
   "id": "5781b387",
   "metadata": {},
   "outputs": [
    {
     "name": "stdout",
     "output_type": "stream",
     "text": [
      "10\n",
      "20\n"
     ]
    }
   ],
   "source": [
    "x = 10 # intial value of x\n",
    "print(x) \n",
    "# Reassingning the value of x\n",
    "x = 20 \n",
    "print(x)"
   ]
  },
  {
   "cell_type": "code",
   "execution_count": null,
   "id": "8d69305d",
   "metadata": {},
   "outputs": [],
   "source": []
  }
 ],
 "metadata": {
  "kernelspec": {
   "display_name": ".venv",
   "language": "python",
   "name": "python3"
  },
  "language_info": {
   "codemirror_mode": {
    "name": "ipython",
    "version": 3
   },
   "file_extension": ".py",
   "mimetype": "text/x-python",
   "name": "python",
   "nbconvert_exporter": "python",
   "pygments_lexer": "ipython3",
   "version": "3.11.9"
  }
 },
 "nbformat": 4,
 "nbformat_minor": 5
}
