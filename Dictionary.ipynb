{
 "cells": [
  {
   "cell_type": "markdown",
   "id": "6293c0fa",
   "metadata": {},
   "source": [
    "# Dictionary\n",
    " * Dictionary is a mutable data type in Python. \n",
    " * A python dictionary is a collection of key and value pairs s eparated by a colon (:) & enclosed in curly braces {}. \n",
    " * Keys must be unique in a dictionary, duplicate values are allowed. "
   ]
  },
  {
   "cell_type": "markdown",
   "id": "eb672407",
   "metadata": {},
   "source": [
    "# Create Dictionary"
   ]
  },
  {
   "cell_type": "code",
   "execution_count": 1,
   "id": "bcd26e76",
   "metadata": {},
   "outputs": [
    {
     "data": {
      "text/plain": [
       "{}"
      ]
     },
     "execution_count": 1,
     "metadata": {},
     "output_type": "execute_result"
    }
   ],
   "source": [
    "mydict = dict() # empty dictionary\n",
    "mydict"
   ]
  },
  {
   "cell_type": "code",
   "execution_count": 2,
   "id": "c1ce8820",
   "metadata": {},
   "outputs": [
    {
     "data": {
      "text/plain": [
       "{}"
      ]
     },
     "execution_count": 2,
     "metadata": {},
     "output_type": "execute_result"
    }
   ],
   "source": [
    "mydict = {} # empty dictionary\n",
    "mydict"
   ]
  },
  {
   "cell_type": "code",
   "execution_count": 3,
   "id": "cf70e3c1",
   "metadata": {},
   "outputs": [
    {
     "data": {
      "text/plain": [
       "{1: 'one', 2: 'two', 3: 'three'}"
      ]
     },
     "execution_count": 3,
     "metadata": {},
     "output_type": "execute_result"
    }
   ],
   "source": [
    "mydict = {1:'one' , 2:'two' , 3:'three'} # dictionary with integer keys\n",
    "mydict"
   ]
  },
  {
   "cell_type": "code",
   "execution_count": 4,
   "id": "11b26d3d",
   "metadata": {},
   "outputs": [
    {
     "data": {
      "text/plain": [
       "{1: 'one', 2: 'two', 3: 'three'}"
      ]
     },
     "execution_count": 4,
     "metadata": {},
     "output_type": "execute_result"
    }
   ],
   "source": [
    "mydict = dict({1:'one' , 2:'two' , 3:'three'}) \n",
    "mydict"
   ]
  },
  {
   "cell_type": "code",
   "execution_count": 5,
   "id": "2eacb565",
   "metadata": {},
   "outputs": [
    {
     "data": {
      "text/plain": [
       "{'A': 'one', 'B': 'two', 'C': 'three'}"
      ]
     },
     "execution_count": 5,
     "metadata": {},
     "output_type": "execute_result"
    }
   ],
   "source": [
    "\n",
    "mydict = {'A':'one' , 'B':'two' , 'C':'three'} # dictionary with character keys \n",
    "mydict "
   ]
  },
  {
   "cell_type": "code",
   "execution_count": 6,
   "id": "590513c5",
   "metadata": {},
   "outputs": [
    {
     "data": {
      "text/plain": [
       "{1: 'one', 'A': 'two', 3: 'three'}"
      ]
     },
     "execution_count": 6,
     "metadata": {},
     "output_type": "execute_result"
    }
   ],
   "source": [
    "\n",
    "mydict = {1:'one' , 'A':'two' , 3:'three'} # dictionary with mixed keys \n",
    "mydict "
   ]
  },
  {
   "cell_type": "code",
   "execution_count": 7,
   "id": "e38cf19b",
   "metadata": {},
   "outputs": [
    {
     "data": {
      "text/plain": [
       "dict_keys([1, 'A', 3])"
      ]
     },
     "execution_count": 7,
     "metadata": {},
     "output_type": "execute_result"
    }
   ],
   "source": [
    "\n",
    "mydict.keys() # Return Dictionary Keys using keys() method "
   ]
  },
  {
   "cell_type": "code",
   "execution_count": 8,
   "id": "60f3acce",
   "metadata": {},
   "outputs": [
    {
     "data": {
      "text/plain": [
       "dict_values(['one', 'two', 'three'])"
      ]
     },
     "execution_count": 8,
     "metadata": {},
     "output_type": "execute_result"
    }
   ],
   "source": [
    "\n",
    "mydict.values() # Return Dictionary Values using values() method"
   ]
  },
  {
   "cell_type": "code",
   "execution_count": 9,
   "id": "df6cd7fe",
   "metadata": {},
   "outputs": [
    {
     "data": {
      "text/plain": [
       "dict_items([(1, 'one'), ('A', 'two'), (3, 'three')])"
      ]
     },
     "execution_count": 9,
     "metadata": {},
     "output_type": "execute_result"
    }
   ],
   "source": [
    "\n",
    "mydict.items() # Access each key-value pair within a dictionary "
   ]
  },
  {
   "cell_type": "code",
   "execution_count": 10,
   "id": "ea35aca3",
   "metadata": {},
   "outputs": [
    {
     "data": {
      "text/plain": [
       "{1: 'one', 2: 'two', 'A': ['vaishu', 'Abhi', 'Avi']}"
      ]
     },
     "execution_count": 10,
     "metadata": {},
     "output_type": "execute_result"
    }
   ],
   "source": [
    "\n",
    "mydict = {1:'one' , 2:'two' , 'A':['vaishu' , 'Abhi' , 'Avi']} # dictionary with \n",
    "mydict "
   ]
  },
  {
   "cell_type": "code",
   "execution_count": 11,
   "id": "1c31eb8f",
   "metadata": {},
   "outputs": [
    {
     "data": {
      "text/plain": [
       "{1: 'one',\n",
       " 2: 'two',\n",
       " 'A': ['vaishu', 'Abhi', 'Avi'],\n",
       " 'B': ('Bat', 'cat', 'rat')}"
      ]
     },
     "execution_count": 11,
     "metadata": {},
     "output_type": "execute_result"
    }
   ],
   "source": [
    "\n",
    "mydict = {1:'one' , 2:'two' , 'A':['vaishu' , 'Abhi' , 'Avi'], 'B':('Bat' , 'cat','rat')} # dictionary with\n",
    "mydict "
   ]
  },
  {
   "cell_type": "code",
   "execution_count": 12,
   "id": "1b644ca7",
   "metadata": {},
   "outputs": [
    {
     "data": {
      "text/plain": [
       "{1: 'one',\n",
       " 2: 'two',\n",
       " 'A': {'Name': 'vaishu', 'Age': 20},\n",
       " 'B': ('Bat', 'cat', 'hat')}"
      ]
     },
     "execution_count": 12,
     "metadata": {},
     "output_type": "execute_result"
    }
   ],
   "source": [
    "\n",
    "mydict = {1:'one' , 2:'two' , 'A':{'Name':'vaishu' , 'Age' :20}, 'B':('Bat' , 'cat','hat')} # dictionary with \n",
    "mydict "
   ]
  },
  {
   "cell_type": "code",
   "execution_count": 13,
   "id": "1e5c487e",
   "metadata": {},
   "outputs": [
    {
     "data": {
      "text/plain": [
       "{'b': None, 'a': None, 'c': None, 'd': None}"
      ]
     },
     "execution_count": 13,
     "metadata": {},
     "output_type": "execute_result"
    }
   ],
   "source": [
    "\n",
    "keys = {'a' , 'b' , 'c' , 'd'} \n",
    "mydict3 = dict.fromkeys(keys) # Create a dictionary from a sequence of keys \n",
    "mydict3 "
   ]
  },
  {
   "cell_type": "code",
   "execution_count": 14,
   "id": "ee084a9f",
   "metadata": {},
   "outputs": [
    {
     "data": {
      "text/plain": [
       "{'b': 10, 'a': 10, 'c': 10, 'd': 10}"
      ]
     },
     "execution_count": 14,
     "metadata": {},
     "output_type": "execute_result"
    }
   ],
   "source": [
    "keys = {'a' , 'b' , 'c' , 'd'} \n",
    "value = 10 \n",
    "mydict3 = dict.fromkeys(keys , value) # Create a dictionary from a sequence of \n",
    "mydict3 "
   ]
  },
  {
   "cell_type": "code",
   "execution_count": 15,
   "id": "30c5c1fd",
   "metadata": {},
   "outputs": [
    {
     "data": {
      "text/plain": [
       "{'b': [10, 20, 30], 'a': [10, 20, 30], 'c': [10, 20, 30], 'd': [10, 20, 30]}"
      ]
     },
     "execution_count": 15,
     "metadata": {},
     "output_type": "execute_result"
    }
   ],
   "source": [
    "keys = {'a' , 'b' , 'c' , 'd'} \n",
    "value = [10,20,30] \n",
    "mydict3 = dict.fromkeys(keys , value) # Create a dictionary from a sequence of \n",
    "mydict3 "
   ]
  },
  {
   "cell_type": "code",
   "execution_count": 16,
   "id": "7670d2b7",
   "metadata": {},
   "outputs": [
    {
     "data": {
      "text/plain": [
       "{'b': [10, 20, 30, 40],\n",
       " 'a': [10, 20, 30, 40],\n",
       " 'c': [10, 20, 30, 40],\n",
       " 'd': [10, 20, 30, 40]}"
      ]
     },
     "execution_count": 16,
     "metadata": {},
     "output_type": "execute_result"
    }
   ],
   "source": [
    "value.append(40) \n",
    "mydict3 "
   ]
  },
  {
   "cell_type": "markdown",
   "id": "a46c787f",
   "metadata": {},
   "source": [
    "# Accessing items"
   ]
  },
  {
   "cell_type": "code",
   "execution_count": 17,
   "id": "509ab9b9",
   "metadata": {},
   "outputs": [
    {
     "data": {
      "text/plain": [
       "{1: 'one', 2: 'two', 3: 'three', 4: 'four'}"
      ]
     },
     "execution_count": 17,
     "metadata": {},
     "output_type": "execute_result"
    }
   ],
   "source": [
    "\n",
    "mydict = {1:'one' , 2:'two' , 3:'three' , 4:'four'} \n",
    "mydict "
   ]
  },
  {
   "cell_type": "code",
   "execution_count": 18,
   "id": "9b3a811d",
   "metadata": {},
   "outputs": [
    {
     "data": {
      "text/plain": [
       "'one'"
      ]
     },
     "execution_count": 18,
     "metadata": {},
     "output_type": "execute_result"
    }
   ],
   "source": [
    "mydict[1] # Access item using key "
   ]
  },
  {
   "cell_type": "code",
   "execution_count": 19,
   "id": "dc0dd965",
   "metadata": {},
   "outputs": [
    {
     "data": {
      "text/plain": [
       "'one'"
      ]
     },
     "execution_count": 19,
     "metadata": {},
     "output_type": "execute_result"
    }
   ],
   "source": [
    "\n",
    "mydict.get(1) # Access item using get() method "
   ]
  },
  {
   "cell_type": "code",
   "execution_count": 20,
   "id": "3512fd55",
   "metadata": {},
   "outputs": [
    {
     "data": {
      "text/plain": [
       "{'Name': 'vaishu', 'ID': 74123, 'DOB': 2003, 'job': 'Analyst'}"
      ]
     },
     "execution_count": 20,
     "metadata": {},
     "output_type": "execute_result"
    }
   ],
   "source": [
    " \n",
    "mydict1 = {'Name':'vaishu' , 'ID': 74123 , 'DOB': 2003 , 'job' :'Analyst'} \n",
    "mydict1 "
   ]
  },
  {
   "cell_type": "code",
   "execution_count": 21,
   "id": "81e82e39",
   "metadata": {},
   "outputs": [
    {
     "data": {
      "text/plain": [
       "'vaishu'"
      ]
     },
     "execution_count": 21,
     "metadata": {},
     "output_type": "execute_result"
    }
   ],
   "source": [
    "\n",
    "mydict1['Name'] # Access item using key "
   ]
  },
  {
   "cell_type": "code",
   "execution_count": 22,
   "id": "a07b0928",
   "metadata": {},
   "outputs": [
    {
     "data": {
      "text/plain": [
       "'Analyst'"
      ]
     },
     "execution_count": 22,
     "metadata": {},
     "output_type": "execute_result"
    }
   ],
   "source": [
    "\n",
    "mydict1.get('job') # Access item using get() method"
   ]
  },
  {
   "cell_type": "markdown",
   "id": "0f195837",
   "metadata": {},
   "source": [
    "# Add, Remove & Change items"
   ]
  },
  {
   "cell_type": "code",
   "execution_count": 23,
   "id": "3a68a6cc",
   "metadata": {},
   "outputs": [
    {
     "data": {
      "text/plain": [
       "{'Name': 'vaishu', 'ID': 12345, 'DOB': 2003, 'Address': 'India'}"
      ]
     },
     "execution_count": 23,
     "metadata": {},
     "output_type": "execute_result"
    }
   ],
   "source": [
    "\n",
    "mydict1 = {'Name':'vaishu' , 'ID': 12345 , 'DOB': 2003 , 'Address' : 'India'} \n",
    "mydict1 "
   ]
  },
  {
   "cell_type": "code",
   "execution_count": 24,
   "id": "a5208ca3",
   "metadata": {},
   "outputs": [
    {
     "data": {
      "text/plain": [
       "{'Name': 'vaishu', 'ID': 12345, 'DOB': 2003, 'Address': 'Bangalore'}"
      ]
     },
     "execution_count": 24,
     "metadata": {},
     "output_type": "execute_result"
    }
   ],
   "source": [
    "\n",
    "mydict1['DOB'] = 2003 # Changing Dictionary Items \n",
    "mydict1['Address'] = 'Bangalore' \n",
    "mydict1 "
   ]
  },
  {
   "cell_type": "code",
   "execution_count": 25,
   "id": "20970f5a",
   "metadata": {},
   "outputs": [
    {
     "data": {
      "text/plain": [
       "{'Name': 'vaishu', 'ID': 12345, 'DOB': 2003, 'Address': 'Bangalore'}"
      ]
     },
     "execution_count": 25,
     "metadata": {},
     "output_type": "execute_result"
    }
   ],
   "source": [
    "\n",
    "dict1 = {'DOB':2003} \n",
    "mydict1.update(dict1) \n",
    "mydict1 "
   ]
  },
  {
   "cell_type": "code",
   "execution_count": 26,
   "id": "1e9779c0",
   "metadata": {},
   "outputs": [
    {
     "data": {
      "text/plain": [
       "{'Name': 'vaishu',\n",
       " 'ID': 12345,\n",
       " 'DOB': 2003,\n",
       " 'Address': 'Bangalore',\n",
       " 'Job': 'Analyst'}"
      ]
     },
     "execution_count": 26,
     "metadata": {},
     "output_type": "execute_result"
    }
   ],
   "source": [
    "\n",
    "mydict1['Job'] = 'Analyst' # Adding items in the dictionary \n",
    "mydict1 "
   ]
  },
  {
   "cell_type": "code",
   "execution_count": 27,
   "id": "b404880f",
   "metadata": {},
   "outputs": [
    {
     "data": {
      "text/plain": [
       "{'Name': 'vaishu', 'ID': 12345, 'DOB': 2003, 'Address': 'Bangalore'}"
      ]
     },
     "execution_count": 27,
     "metadata": {},
     "output_type": "execute_result"
    }
   ],
   "source": [
    "\n",
    "mydict1.pop('Job') # Removing items in the dictionary using Pop method \n",
    "mydict1 "
   ]
  },
  {
   "cell_type": "code",
   "execution_count": 28,
   "id": "a48a1176",
   "metadata": {},
   "outputs": [
    {
     "data": {
      "text/plain": [
       "('Address', 'Bangalore')"
      ]
     },
     "execution_count": 28,
     "metadata": {},
     "output_type": "execute_result"
    }
   ],
   "source": [
    "\n",
    "mydict1.popitem() # A random item is removed "
   ]
  },
  {
   "cell_type": "code",
   "execution_count": 29,
   "id": "516b2959",
   "metadata": {},
   "outputs": [
    {
     "data": {
      "text/plain": [
       "{'Name': 'vaishu', 'ID': 12345, 'DOB': 2003}"
      ]
     },
     "execution_count": 29,
     "metadata": {},
     "output_type": "execute_result"
    }
   ],
   "source": [
    "mydict1"
   ]
  },
  {
   "cell_type": "code",
   "execution_count": 30,
   "id": "3856663c",
   "metadata": {},
   "outputs": [
    {
     "data": {
      "text/plain": [
       "{'Name': 'vaishu', 'DOB': 2003}"
      ]
     },
     "execution_count": 30,
     "metadata": {},
     "output_type": "execute_result"
    }
   ],
   "source": [
    "\n",
    "del[mydict1['ID']] # Removing item using del method \n",
    "mydict1 "
   ]
  },
  {
   "cell_type": "code",
   "execution_count": 31,
   "id": "77c8a807",
   "metadata": {},
   "outputs": [
    {
     "data": {
      "text/plain": [
       "{}"
      ]
     },
     "execution_count": 31,
     "metadata": {},
     "output_type": "execute_result"
    }
   ],
   "source": [
    " \n",
    "mydict1.clear() # Delete all items of the dictionary using clear method \n",
    "mydict1 "
   ]
  },
  {
   "cell_type": "code",
   "execution_count": 32,
   "id": "f80aea4c",
   "metadata": {},
   "outputs": [
    {
     "ename": "NameError",
     "evalue": "name 'mydict1' is not defined",
     "output_type": "error",
     "traceback": [
      "\u001b[31m---------------------------------------------------------------------------\u001b[39m",
      "\u001b[31mNameError\u001b[39m                                 Traceback (most recent call last)",
      "\u001b[36mCell\u001b[39m\u001b[36m \u001b[39m\u001b[32mIn[32]\u001b[39m\u001b[32m, line 2\u001b[39m\n\u001b[32m      1\u001b[39m \u001b[38;5;28;01mdel\u001b[39;00m mydict1 \u001b[38;5;66;03m# Delete the dictionary object \u001b[39;00m\n\u001b[32m----> \u001b[39m\u001b[32m2\u001b[39m \u001b[43mmydict1\u001b[49m \n",
      "\u001b[31mNameError\u001b[39m: name 'mydict1' is not defined"
     ]
    }
   ],
   "source": [
    " \n",
    "del mydict1 # Delete the dictionary object \n",
    "mydict1 "
   ]
  },
  {
   "cell_type": "markdown",
   "id": "aca17410",
   "metadata": {},
   "source": [
    "# Copy Dictionary"
   ]
  },
  {
   "cell_type": "code",
   "execution_count": null,
   "id": "71a1e17c",
   "metadata": {},
   "outputs": [
    {
     "data": {
      "text/plain": [
       "{'Name': 'vaishu', 'ID': 12345, 'DOB': 2003, 'Address': 'India'}"
      ]
     },
     "execution_count": 42,
     "metadata": {},
     "output_type": "execute_result"
    }
   ],
   "source": [
    "\n",
    "mydict = {'Name':'vaishu' , 'ID': 12345 , 'DOB': 2003 , 'Address' : 'India'} \n",
    "mydict"
   ]
  },
  {
   "cell_type": "code",
   "execution_count": null,
   "id": "8957b68a",
   "metadata": {},
   "outputs": [],
   "source": [
    "mydict1 = mydict # Create a new reference \"mydict1\" "
   ]
  },
  {
   "cell_type": "code",
   "execution_count": null,
   "id": "804c317b",
   "metadata": {},
   "outputs": [
    {
     "data": {
      "text/plain": [
       "(2495317932096, 2495317932096)"
      ]
     },
     "execution_count": 44,
     "metadata": {},
     "output_type": "execute_result"
    }
   ],
   "source": [
    "id(mydict) , id(mydict1) # The address of both mydict & mydict1 will be the same"
   ]
  },
  {
   "cell_type": "code",
   "execution_count": null,
   "id": "46ccf927",
   "metadata": {},
   "outputs": [],
   "source": [
    " mydict2 = mydict.copy() # Create a copy of the dictionary "
   ]
  },
  {
   "cell_type": "code",
   "execution_count": null,
   "id": "89bf78ff",
   "metadata": {},
   "outputs": [
    {
     "data": {
      "text/plain": [
       "2495318304448"
      ]
     },
     "execution_count": 46,
     "metadata": {},
     "output_type": "execute_result"
    }
   ],
   "source": [
    "id(mydict2) # The address of mydict2 will be different from mydict because mydic "
   ]
  },
  {
   "cell_type": "code",
   "execution_count": null,
   "id": "9658484c",
   "metadata": {},
   "outputs": [
    {
     "data": {
      "text/plain": [
       "{'Name': 'vaishu', 'ID': 12345, 'DOB': 2003, 'Address': 'Mumbai'}"
      ]
     },
     "execution_count": 47,
     "metadata": {},
     "output_type": "execute_result"
    }
   ],
   "source": [
    "mydict['Address'] =  'Mumbai' # Changing the value of mydict\n",
    "mydict"
   ]
  },
  {
   "cell_type": "code",
   "execution_count": null,
   "id": "211fd963",
   "metadata": {},
   "outputs": [
    {
     "data": {
      "text/plain": [
       "{'Name': 'vaishu', 'ID': 12345, 'DOB': 2003, 'Address': 'Mumbai'}"
      ]
     },
     "execution_count": 48,
     "metadata": {},
     "output_type": "execute_result"
    }
   ],
   "source": [
    "mydict1 #mydict1 will also be changed because it is a reference to mydict"
   ]
  },
  {
   "cell_type": "code",
   "execution_count": null,
   "id": "e04ccbc2",
   "metadata": {},
   "outputs": [
    {
     "data": {
      "text/plain": [
       "{'Name': 'vaishu', 'ID': 12345, 'DOB': 2003, 'Address': 'India'}"
      ]
     },
     "execution_count": 49,
     "metadata": {},
     "output_type": "execute_result"
    }
   ],
   "source": [
    "mydict2 # copy of list will not be changed because it is a copy of mydict"
   ]
  },
  {
   "cell_type": "markdown",
   "id": "510c3c15",
   "metadata": {},
   "source": [
    "# Loop through a Dictionary"
   ]
  },
  {
   "cell_type": "code",
   "execution_count": null,
   "id": "87cd7216",
   "metadata": {},
   "outputs": [
    {
     "data": {
      "text/plain": [
       "{'Name': 'vaishu', 'ID': 12345, 'DOB': 2003, 'Address': 'India'}"
      ]
     },
     "execution_count": 55,
     "metadata": {},
     "output_type": "execute_result"
    }
   ],
   "source": [
    "mydict1 = {'Name':'vaishu' , 'ID': 12345 , 'DOB': 2003 , 'Address' : 'India'} \n",
    "mydict1"
   ]
  },
  {
   "cell_type": "code",
   "execution_count": null,
   "id": "5722fa8e",
   "metadata": {},
   "outputs": [
    {
     "name": "stdout",
     "output_type": "stream",
     "text": [
      "Name : vaishu\n",
      "ID : 12345\n",
      "DOB : 2003\n",
      "Address : India\n"
     ]
    }
   ],
   "source": [
    "\n",
    "for i in mydict1: \n",
    "    print(i , ':' , mydict1[i]) # Key & value pair "
   ]
  },
  {
   "cell_type": "code",
   "execution_count": null,
   "id": "09e8fa19",
   "metadata": {},
   "outputs": [
    {
     "name": "stdout",
     "output_type": "stream",
     "text": [
      "vaishu\n",
      "12345\n",
      "2003\n",
      "India\n"
     ]
    }
   ],
   "source": [
    "for i in mydict1: \n",
    "    print(mydict1[i]) # Dictionary items "
   ]
  },
  {
   "cell_type": "markdown",
   "id": "2c306fe9",
   "metadata": {},
   "source": [
    "# Dictionary Membership"
   ]
  },
  {
   "cell_type": "code",
   "execution_count": 33,
   "id": "e3ba5047",
   "metadata": {},
   "outputs": [
    {
     "data": {
      "text/plain": [
       "{'Name': 'vaishu',\n",
       " 'ID': 12345,\n",
       " 'DOB': 2003,\n",
       " 'Address': 'India',\n",
       " 'job': 'Analyst'}"
      ]
     },
     "execution_count": 33,
     "metadata": {},
     "output_type": "execute_result"
    }
   ],
   "source": [
    "mydict1 = {'Name':'vaishu' , 'ID': 12345 , 'DOB': 2003 , 'Address' : 'India', 'job' : 'Analyst'}\n",
    "mydict1"
   ]
  },
  {
   "cell_type": "code",
   "execution_count": 34,
   "id": "de6bd677",
   "metadata": {},
   "outputs": [
    {
     "data": {
      "text/plain": [
       "True"
      ]
     },
     "execution_count": 34,
     "metadata": {},
     "output_type": "execute_result"
    }
   ],
   "source": [
    "'Name' in mydict1 # Test if key is present in the dictionary or not"
   ]
  },
  {
   "cell_type": "code",
   "execution_count": 35,
   "id": "101099d1",
   "metadata": {},
   "outputs": [
    {
     "data": {
      "text/plain": [
       "False"
      ]
     },
     "execution_count": 35,
     "metadata": {},
     "output_type": "execute_result"
    }
   ],
   "source": [
    "'vaishu' in mydict1 # Membership test for value in dictionary"
   ]
  },
  {
   "cell_type": "code",
   "execution_count": 36,
   "id": "8c441479",
   "metadata": {},
   "outputs": [
    {
     "data": {
      "text/plain": [
       "True"
      ]
     },
     "execution_count": 36,
     "metadata": {},
     "output_type": "execute_result"
    }
   ],
   "source": [
    "'ID' in mydict1 "
   ]
  },
  {
   "cell_type": "code",
   "execution_count": 37,
   "id": "cdd315e8",
   "metadata": {},
   "outputs": [
    {
     "data": {
      "text/plain": [
       "True"
      ]
     },
     "execution_count": 37,
     "metadata": {},
     "output_type": "execute_result"
    }
   ],
   "source": [
    "'Address' in mydict1"
   ]
  },
  {
   "cell_type": "markdown",
   "id": "2eb44b82",
   "metadata": {},
   "source": [
    "# All / Any\n",
    " The all() method returns: \n",
    " * True - If all all keys of the dictionary are true \n",
    " * False - If any key of the dictionary is false \n",
    " \n",
    "The any() function returns True if any key of the dictionary is True. If not, any() returns False."
   ]
  },
  {
   "cell_type": "code",
   "execution_count": 39,
   "id": "eda2c8d2",
   "metadata": {},
   "outputs": [
    {
     "data": {
      "text/plain": [
       "{'Name': 'vaishu',\n",
       " 'ID': 12345,\n",
       " 'DOB': 2003,\n",
       " 'Address': 'India',\n",
       " 'job': 'Analyst'}"
      ]
     },
     "execution_count": 39,
     "metadata": {},
     "output_type": "execute_result"
    }
   ],
   "source": [
    "mydict1 = {'Name':'vaishu' , 'ID': 12345 , 'DOB': 2003 , 'Address' : 'India', 'job' : 'Analyst'}\n",
    "mydict1"
   ]
  },
  {
   "cell_type": "code",
   "execution_count": 40,
   "id": "61781a72",
   "metadata": {},
   "outputs": [
    {
     "data": {
      "text/plain": [
       "True"
      ]
     },
     "execution_count": 40,
     "metadata": {},
     "output_type": "execute_result"
    }
   ],
   "source": [
    "all(mydict1) # will return True if all keys are true"
   ]
  },
  {
   "cell_type": "code",
   "execution_count": null,
   "id": "c40c0e06",
   "metadata": {},
   "outputs": [],
   "source": []
  }
 ],
 "metadata": {
  "kernelspec": {
   "display_name": ".venv",
   "language": "python",
   "name": "python3"
  },
  "language_info": {
   "codemirror_mode": {
    "name": "ipython",
    "version": 3
   },
   "file_extension": ".py",
   "mimetype": "text/x-python",
   "name": "python",
   "nbconvert_exporter": "python",
   "pygments_lexer": "ipython3",
   "version": "3.11.9"
  }
 },
 "nbformat": 4,
 "nbformat_minor": 5
}
