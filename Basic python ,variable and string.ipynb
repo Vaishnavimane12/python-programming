{
 "cells": [
  {
   "cell_type": "code",
   "execution_count": 1,
   "id": "ffcfd562",
   "metadata": {},
   "outputs": [],
   "source": [
    "# introduction \n",
    "# Day 1- 30 day python challenge"
   ]
  },
  {
   "cell_type": "code",
   "execution_count": 2,
   "id": "521a7aec",
   "metadata": {},
   "outputs": [
    {
     "name": "stdout",
     "output_type": "stream",
     "text": [
      "5\n"
     ]
    }
   ],
   "source": [
    "print(3+2) # addition(+)"
   ]
  },
  {
   "cell_type": "code",
   "execution_count": 3,
   "id": "545da380",
   "metadata": {},
   "outputs": [
    {
     "name": "stdout",
     "output_type": "stream",
     "text": [
      "1\n"
     ]
    }
   ],
   "source": [
    "print(3-2) # subtrsction(-)"
   ]
  },
  {
   "cell_type": "code",
   "execution_count": 4,
   "id": "02443dfc",
   "metadata": {},
   "outputs": [
    {
     "name": "stdout",
     "output_type": "stream",
     "text": [
      "6\n"
     ]
    }
   ],
   "source": [
    "print(3*2) # multiplication(*)"
   ]
  },
  {
   "cell_type": "code",
   "execution_count": 5,
   "id": "34ed9a41",
   "metadata": {},
   "outputs": [
    {
     "name": "stdout",
     "output_type": "stream",
     "text": [
      "1.5\n"
     ]
    }
   ],
   "source": [
    "print(3/2) # division(/)"
   ]
  },
  {
   "cell_type": "code",
   "execution_count": 6,
   "id": "a63329da",
   "metadata": {},
   "outputs": [
    {
     "name": "stdout",
     "output_type": "stream",
     "text": [
      "9\n"
     ]
    }
   ],
   "source": [
    "print(3**2) # exponentiation(**)"
   ]
  },
  {
   "cell_type": "code",
   "execution_count": 7,
   "id": "fce61383",
   "metadata": {},
   "outputs": [
    {
     "name": "stdout",
     "output_type": "stream",
     "text": [
      "1\n"
     ]
    }
   ],
   "source": [
    "print(3//2) # floot dovision operator(//)"
   ]
  },
  {
   "cell_type": "code",
   "execution_count": 8,
   "id": "2a0b4b37",
   "metadata": {},
   "outputs": [
    {
     "name": "stdout",
     "output_type": "stream",
     "text": [
      "1\n"
     ]
    }
   ],
   "source": [
    "print(3%2) # modulus operator(%)"
   ]
  },
  {
   "cell_type": "code",
   "execution_count": 9,
   "id": "744ae214",
   "metadata": {},
   "outputs": [],
   "source": [
    "# Checking data types"
   ]
  },
  {
   "cell_type": "code",
   "execution_count": 10,
   "id": "4c4e4cd6",
   "metadata": {},
   "outputs": [
    {
     "name": "stdout",
     "output_type": "stream",
     "text": [
      "<class 'int'>\n"
     ]
    }
   ],
   "source": [
    "print(type(10)) # int"
   ]
  },
  {
   "cell_type": "code",
   "execution_count": 11,
   "id": "46c9841c",
   "metadata": {},
   "outputs": [
    {
     "name": "stdout",
     "output_type": "stream",
     "text": [
      "<class 'float'>\n"
     ]
    }
   ],
   "source": [
    "print(type(3.14)) # float"
   ]
  },
  {
   "cell_type": "code",
   "execution_count": 12,
   "id": "ea3d6cff",
   "metadata": {},
   "outputs": [
    {
     "name": "stdout",
     "output_type": "stream",
     "text": [
      "<class 'complex'>\n"
     ]
    }
   ],
   "source": [
    "print(type(1+2j)) # complex"
   ]
  },
  {
   "cell_type": "code",
   "execution_count": 13,
   "id": "1dd514b2",
   "metadata": {},
   "outputs": [
    {
     "name": "stdout",
     "output_type": "stream",
     "text": [
      "<class 'str'>\n"
     ]
    }
   ],
   "source": [
    "print(type('vaishnavi')) #string"
   ]
  },
  {
   "cell_type": "code",
   "execution_count": 14,
   "id": "7d131730",
   "metadata": {},
   "outputs": [
    {
     "name": "stdout",
     "output_type": "stream",
     "text": [
      "<class 'list'>\n"
     ]
    }
   ],
   "source": [
    "print(type([1,2,3,4])) # list"
   ]
  },
  {
   "cell_type": "code",
   "execution_count": 15,
   "id": "ff4ec01d",
   "metadata": {},
   "outputs": [
    {
     "name": "stdout",
     "output_type": "stream",
     "text": [
      "<class 'dict'>\n"
     ]
    }
   ],
   "source": [
    "print(type({'name':'vaishnavi'})) # dictionary"
   ]
  },
  {
   "cell_type": "code",
   "execution_count": 16,
   "id": "ef76e353",
   "metadata": {},
   "outputs": [
    {
     "name": "stdout",
     "output_type": "stream",
     "text": [
      "<class 'set'>\n"
     ]
    }
   ],
   "source": [
    "print(type({9.8,3.14,2.7})) #set"
   ]
  },
  {
   "cell_type": "code",
   "execution_count": 17,
   "id": "2bfbaf6c",
   "metadata": {},
   "outputs": [
    {
     "name": "stdout",
     "output_type": "stream",
     "text": [
      "<class 'tuple'>\n"
     ]
    }
   ],
   "source": [
    "print(type((9.0,3.14, 2.7))) # tuple"
   ]
  },
  {
   "cell_type": "code",
   "execution_count": 18,
   "id": "811cf888",
   "metadata": {},
   "outputs": [
    {
     "name": "stdout",
     "output_type": "stream",
     "text": [
      "<class 'bool'>\n"
     ]
    }
   ],
   "source": [
    "print(type(3==3)) # boolen"
   ]
  },
  {
   "cell_type": "code",
   "execution_count": 19,
   "id": "602a85cd",
   "metadata": {},
   "outputs": [
    {
     "name": "stdout",
     "output_type": "stream",
     "text": [
      "<class 'bool'>\n"
     ]
    }
   ],
   "source": [
    "print(type(3>=2)) # boolen"
   ]
  },
  {
   "cell_type": "code",
   "execution_count": 20,
   "id": "c3950e84",
   "metadata": {},
   "outputs": [],
   "source": [
    "# String"
   ]
  },
  {
   "cell_type": "code",
   "execution_count": 21,
   "id": "e08e9319",
   "metadata": {},
   "outputs": [],
   "source": [
    "# Single line comment"
   ]
  },
  {
   "cell_type": "code",
   "execution_count": 22,
   "id": "8d29db78",
   "metadata": {},
   "outputs": [
    {
     "name": "stdout",
     "output_type": "stream",
     "text": [
      "p\n"
     ]
    }
   ],
   "source": [
    "letter = 'p' # A  string could be a single charecter or a bunch of texts\n",
    "print(letter) # p"
   ]
  },
  {
   "cell_type": "code",
   "execution_count": 23,
   "id": "c222856c",
   "metadata": {},
   "outputs": [
    {
     "name": "stdout",
     "output_type": "stream",
     "text": [
      "1\n"
     ]
    }
   ],
   "source": [
    "print(len(letter)) # 1"
   ]
  },
  {
   "cell_type": "code",
   "execution_count": 24,
   "id": "6e59d965",
   "metadata": {},
   "outputs": [
    {
     "name": "stdout",
     "output_type": "stream",
     "text": [
      "hello world!\n"
     ]
    }
   ],
   "source": [
    "greeting ='hello world!' # string could be a single or double quote, \"hello,world!\"\n",
    "print(greeting) # hello,world!"
   ]
  },
  {
   "cell_type": "code",
   "execution_count": 25,
   "id": "ac5c3810",
   "metadata": {},
   "outputs": [
    {
     "name": "stdout",
     "output_type": "stream",
     "text": [
      "12\n"
     ]
    }
   ],
   "source": [
    "print(len(greeting))"
   ]
  },
  {
   "cell_type": "code",
   "execution_count": 26,
   "id": "d84f8abd",
   "metadata": {},
   "outputs": [
    {
     "name": "stdout",
     "output_type": "stream",
     "text": [
      "I hope you are enjoying 30 days of python challenge\n"
     ]
    }
   ],
   "source": [
    "sentence =\"I hope you are enjoying 30 days of python challenge\"\n",
    "print(sentence)"
   ]
  },
  {
   "cell_type": "code",
   "execution_count": 27,
   "id": "51636840",
   "metadata": {},
   "outputs": [],
   "source": [
    "# Multiline string"
   ]
  },
  {
   "cell_type": "code",
   "execution_count": 28,
   "id": "bc3881d3",
   "metadata": {},
   "outputs": [],
   "source": [
    "multiline_string = '''I am a teacher and enjoy teaching.\n",
    "I didn't find anything as rewarding as empowering people.\n",
    "That is why I created 30 days of python.'''"
   ]
  },
  {
   "cell_type": "code",
   "execution_count": 29,
   "id": "2635a927",
   "metadata": {},
   "outputs": [
    {
     "name": "stdout",
     "output_type": "stream",
     "text": [
      "I am a teacher and enjoy teaching.\n",
      "I didn't find anything as rewarding as empowering people.\n",
      "That is why I created 30 days of python.\n"
     ]
    }
   ],
   "source": [
    "print(multiline_string)"
   ]
  },
  {
   "cell_type": "code",
   "execution_count": 30,
   "id": "26b49453",
   "metadata": {},
   "outputs": [],
   "source": [
    "# Another way of doing the same thing"
   ]
  },
  {
   "cell_type": "code",
   "execution_count": 31,
   "id": "714c13d9",
   "metadata": {},
   "outputs": [],
   "source": [
    "multiline_string = \"\"\"I am a teacher and enjoy teaching.\n",
    "I didn't find anything as rewarding as empowering people.\n",
    "That is why I created 30 days of python.\"\"\""
   ]
  },
  {
   "cell_type": "code",
   "execution_count": 32,
   "id": "348f5b7d",
   "metadata": {},
   "outputs": [
    {
     "name": "stdout",
     "output_type": "stream",
     "text": [
      "I am a teacher and enjoy teaching.\n",
      "I didn't find anything as rewarding as empowering people.\n",
      "That is why I created 30 days of python.\n"
     ]
    }
   ],
   "source": [
    "print(multiline_string)"
   ]
  },
  {
   "cell_type": "code",
   "execution_count": 33,
   "id": "621126f0",
   "metadata": {},
   "outputs": [],
   "source": [
    "# sting Concatenation"
   ]
  },
  {
   "cell_type": "code",
   "execution_count": 34,
   "id": "10e94795",
   "metadata": {},
   "outputs": [
    {
     "name": "stdout",
     "output_type": "stream",
     "text": [
      "vaishnavi Mane\n"
     ]
    }
   ],
   "source": [
    "first_name = 'vaishnavi'\n",
    "last_name = 'Mane'\n",
    "space = ' '\n",
    "full_name = first_name  +  space + last_name\n",
    "print(full_name) # Vaishnavi Mane"
   ]
  },
  {
   "cell_type": "code",
   "execution_count": 35,
   "id": "e8ba35ee",
   "metadata": {},
   "outputs": [],
   "source": [
    "# checking length of a string using len() builtin function"
   ]
  },
  {
   "cell_type": "code",
   "execution_count": 36,
   "id": "adb2abe4",
   "metadata": {},
   "outputs": [
    {
     "name": "stdout",
     "output_type": "stream",
     "text": [
      "9\n"
     ]
    }
   ],
   "source": [
    "print(len(first_name)) #9"
   ]
  },
  {
   "cell_type": "code",
   "execution_count": 37,
   "id": "7811348f",
   "metadata": {},
   "outputs": [
    {
     "name": "stdout",
     "output_type": "stream",
     "text": [
      "4\n"
     ]
    }
   ],
   "source": [
    "print(len(last_name)) #4"
   ]
  },
  {
   "cell_type": "code",
   "execution_count": 38,
   "id": "0bf5334b",
   "metadata": {},
   "outputs": [
    {
     "name": "stdout",
     "output_type": "stream",
     "text": [
      "True\n"
     ]
    }
   ],
   "source": [
    "print(len(first_name) > len(last_name)) # True"
   ]
  },
  {
   "cell_type": "code",
   "execution_count": 39,
   "id": "f209d960",
   "metadata": {},
   "outputs": [
    {
     "name": "stdout",
     "output_type": "stream",
     "text": [
      "14\n"
     ]
    }
   ],
   "source": [
    "print(len(full_name)) # 14"
   ]
  },
  {
   "cell_type": "code",
   "execution_count": 40,
   "id": "d623d0f8",
   "metadata": {},
   "outputs": [],
   "source": [
    "#### Unpacking characters"
   ]
  },
  {
   "cell_type": "code",
   "execution_count": 41,
   "id": "56085972",
   "metadata": {},
   "outputs": [
    {
     "name": "stdout",
     "output_type": "stream",
     "text": [
      "P\n"
     ]
    }
   ],
   "source": [
    "language = 'Python'\n",
    "a,b,c,d,e,f = language # unpacking sequence charecters into variables\n",
    "print(a) # P\n",
    " "
   ]
  },
  {
   "cell_type": "code",
   "execution_count": 42,
   "id": "0f6116f7",
   "metadata": {},
   "outputs": [
    {
     "name": "stdout",
     "output_type": "stream",
     "text": [
      "y\n"
     ]
    }
   ],
   "source": [
    "print(b) # y"
   ]
  },
  {
   "cell_type": "code",
   "execution_count": 43,
   "id": "65c2e547",
   "metadata": {},
   "outputs": [
    {
     "name": "stdout",
     "output_type": "stream",
     "text": [
      "t\n"
     ]
    }
   ],
   "source": [
    "print(c) #t"
   ]
  },
  {
   "cell_type": "code",
   "execution_count": 44,
   "id": "842735a7",
   "metadata": {},
   "outputs": [
    {
     "name": "stdout",
     "output_type": "stream",
     "text": [
      "h\n"
     ]
    }
   ],
   "source": [
    "print(d) #h"
   ]
  },
  {
   "cell_type": "code",
   "execution_count": 45,
   "id": "4e7f91c1",
   "metadata": {},
   "outputs": [
    {
     "name": "stdout",
     "output_type": "stream",
     "text": [
      "o\n"
     ]
    }
   ],
   "source": [
    "print(e) #o"
   ]
  },
  {
   "cell_type": "code",
   "execution_count": 46,
   "id": "c8b2de9b",
   "metadata": {},
   "outputs": [
    {
     "name": "stdout",
     "output_type": "stream",
     "text": [
      "n\n"
     ]
    }
   ],
   "source": [
    "print(f) #n"
   ]
  },
  {
   "cell_type": "code",
   "execution_count": 47,
   "id": "1ec1c653",
   "metadata": {},
   "outputs": [],
   "source": [
    "# Accessing characters in  strings by index"
   ]
  },
  {
   "cell_type": "code",
   "execution_count": 48,
   "id": "6330cc9f",
   "metadata": {},
   "outputs": [
    {
     "name": "stdout",
     "output_type": "stream",
     "text": [
      "P\n"
     ]
    }
   ],
   "source": [
    "language = 'Python'\n",
    "first_letter = language[0]\n",
    "print(first_letter) # P"
   ]
  },
  {
   "cell_type": "code",
   "execution_count": 49,
   "id": "4f31c41d",
   "metadata": {},
   "outputs": [
    {
     "name": "stdout",
     "output_type": "stream",
     "text": [
      "y\n"
     ]
    }
   ],
   "source": [
    "second_letter = language[1]\n",
    "print(second_letter) # y"
   ]
  },
  {
   "cell_type": "code",
   "execution_count": 50,
   "id": "3c0345fe",
   "metadata": {},
   "outputs": [
    {
     "name": "stdout",
     "output_type": "stream",
     "text": [
      "n\n"
     ]
    }
   ],
   "source": [
    "last_index = len(language) - 1\n",
    "last_letter = language[last_index]\n",
    "print(last_letter) # n\n"
   ]
  },
  {
   "cell_type": "code",
   "execution_count": 51,
   "id": "d29e60cf",
   "metadata": {},
   "outputs": [],
   "source": [
    " #If we want to start from right end we can use negative indexing. -1 is the last index language = 'Python'"
   ]
  },
  {
   "cell_type": "code",
   "execution_count": 52,
   "id": "699ac82e",
   "metadata": {},
   "outputs": [
    {
     "name": "stdout",
     "output_type": "stream",
     "text": [
      "n\n"
     ]
    }
   ],
   "source": [
    "language = 'Python'\n",
    "last_letter = language[-1]\n",
    "print(last_letter) # n"
   ]
  },
  {
   "cell_type": "code",
   "execution_count": 53,
   "id": "5c7df534",
   "metadata": {},
   "outputs": [
    {
     "name": "stdout",
     "output_type": "stream",
     "text": [
      "o\n"
     ]
    }
   ],
   "source": [
    "second_last = language[-2]\n",
    "print(second_last) # o"
   ]
  },
  {
   "cell_type": "code",
   "execution_count": 54,
   "id": "3d59241b",
   "metadata": {},
   "outputs": [],
   "source": [
    "# slicing"
   ]
  },
  {
   "cell_type": "code",
   "execution_count": 55,
   "id": "a48cfad7",
   "metadata": {},
   "outputs": [
    {
     "name": "stdout",
     "output_type": "stream",
     "text": [
      "hon\n"
     ]
    }
   ],
   "source": [
    "language = 'Python'\n",
    "first_three = language[0:3] # starts at zero index and up to 3 but not include 3\n",
    "last_three = language[3:6]\n",
    "print(last_three) # hon"
   ]
  },
  {
   "cell_type": "code",
   "execution_count": 56,
   "id": "38def125",
   "metadata": {},
   "outputs": [],
   "source": [
    "# Another way"
   ]
  },
  {
   "cell_type": "code",
   "execution_count": 57,
   "id": "a4107d2a",
   "metadata": {},
   "outputs": [
    {
     "name": "stdout",
     "output_type": "stream",
     "text": [
      "hon\n"
     ]
    }
   ],
   "source": [
    "last_three = language[-3:]\n",
    "print(last_three)   # hon"
   ]
  },
  {
   "cell_type": "code",
   "execution_count": 58,
   "id": "2c7a17de",
   "metadata": {},
   "outputs": [
    {
     "name": "stdout",
     "output_type": "stream",
     "text": [
      "hon\n"
     ]
    }
   ],
   "source": [
    "last_three = language[3:]\n",
    "print(last_three)   # hon"
   ]
  },
  {
   "cell_type": "code",
   "execution_count": 59,
   "id": "916010d0",
   "metadata": {},
   "outputs": [],
   "source": [
    "# skipping character while splitting python string"
   ]
  },
  {
   "cell_type": "code",
   "execution_count": 60,
   "id": "01cc1ec8",
   "metadata": {},
   "outputs": [
    {
     "name": "stdout",
     "output_type": "stream",
     "text": [
      "Pto\n"
     ]
    }
   ],
   "source": [
    "language = 'Python'\n",
    "pto = language[0:6:2] # \n",
    "print(pto) # pto"
   ]
  },
  {
   "cell_type": "code",
   "execution_count": 61,
   "id": "393d3aaa",
   "metadata": {},
   "outputs": [],
   "source": [
    "# Escape sequence"
   ]
  },
  {
   "cell_type": "code",
   "execution_count": 62,
   "id": "347e21a3",
   "metadata": {},
   "outputs": [
    {
     "name": "stdout",
     "output_type": "stream",
     "text": [
      "I hope every one enjoying the python challenge.\n",
      "Do you ?\n",
      "Days\tTopics\tExercises\n",
      "Day 1\t3\t5\n",
      "Day 2\t3\t5\n",
      "Day 3\t3\t5\n",
      "Day 4\t3\t5\n",
      "This is a back slash  symbol (\\)\n",
      "In every programming language it starts with \"Hello, World!\"\n"
     ]
    }
   ],
   "source": [
    "print('I hope every one enjoying the python challenge.\\nDo you ?') # line break\n",
    "print('Days\\tTopics\\tExercises')\n",
    "print('Day 1\\t3\\t5')\n",
    "print('Day 2\\t3\\t5')\n",
    "print('Day 3\\t3\\t5')\n",
    "print('Day 4\\t3\\t5')\n",
    "print('This is a back slash  symbol (\\\\)') # To write a back slash\n",
    "print('In every programming language it starts with \\\"Hello, World!\\\"')\n"
   ]
  },
  {
   "cell_type": "code",
   "execution_count": 63,
   "id": "fb9cef06",
   "metadata": {},
   "outputs": [],
   "source": [
    "## string methods\n",
    "# capitalize(): converts the irst character the string to capital letter"
   ]
  },
  {
   "cell_type": "code",
   "execution_count": 64,
   "id": "773ea001",
   "metadata": {},
   "outputs": [
    {
     "name": "stdout",
     "output_type": "stream",
     "text": [
      "Thirty days of python\n"
     ]
    }
   ],
   "source": [
    "challenge = 'thirty days of python'\n",
    "print(challenge.capitalize()) # 'Thirty days of python'"
   ]
  },
  {
   "cell_type": "code",
   "execution_count": 66,
   "id": "edbdaf65",
   "metadata": {},
   "outputs": [],
   "source": [
    "#count(): return the number of times a value occurs in a string , count(subtring, start=.., end=..)"
   ]
  },
  {
   "cell_type": "code",
   "execution_count": 67,
   "id": "15c115a1",
   "metadata": {},
   "outputs": [
    {
     "name": "stdout",
     "output_type": "stream",
     "text": [
      "3\n",
      "1\n",
      "2\n"
     ]
    }
   ],
   "source": [
    "challenge = 'thirty days of python'\n",
    "print(challenge.count('y')) # 3\n",
    "print(challenge.count('y', 7, 14)) # 1\n",
    "print(challenge.count('th')) # 2`"
   ]
  },
  {
   "cell_type": "code",
   "execution_count": 68,
   "id": "d6e9821c",
   "metadata": {},
   "outputs": [],
   "source": [
    "# endswith(): returns True if a string ends with a specified ending"
   ]
  },
  {
   "cell_type": "code",
   "execution_count": 69,
   "id": "a65598cd",
   "metadata": {},
   "outputs": [
    {
     "name": "stdout",
     "output_type": "stream",
     "text": [
      "True\n",
      "False\n"
     ]
    }
   ],
   "source": [
    "challenge = 'thirty days of python'\n",
    "print(challenge.endswith('on'))   # True\n",
    "print(challenge.endswith('tion')) # False"
   ]
  },
  {
   "cell_type": "code",
   "execution_count": 70,
   "id": "b163bd61",
   "metadata": {},
   "outputs": [],
   "source": [
    "# expandtabs(): replace tab character with spaces, default tab size is 8. It takes tab size argument"
   ]
  },
  {
   "cell_type": "code",
   "execution_count": 71,
   "id": "b9bc499e",
   "metadata": {},
   "outputs": [
    {
     "name": "stdout",
     "output_type": "stream",
     "text": [
      "thirty  days    of      python\n",
      "thirty    days      of        python\n"
     ]
    }
   ],
   "source": [
    "challenge = 'thirty\\tdays\\tof\\tpython'\n",
    "print(challenge.expandtabs())   # 'thirty  days    of      python'\n",
    "print(challenge.expandtabs(10)) # 'thirty    days      of        python'"
   ]
  },
  {
   "cell_type": "code",
   "execution_count": 72,
   "id": "fb38ce64",
   "metadata": {},
   "outputs": [],
   "source": [
    "# find(): retuns the index of first occurrence of substring"
   ]
  },
  {
   "cell_type": "code",
   "execution_count": 73,
   "id": "e699d054",
   "metadata": {},
   "outputs": [
    {
     "name": "stdout",
     "output_type": "stream",
     "text": [
      "5\n",
      "0\n"
     ]
    }
   ],
   "source": [
    "challenge = 'thirty days of python'\n",
    "print(challenge.find('y'))  # 5\n",
    "print(challenge.find('th')) # 0"
   ]
  },
  {
   "cell_type": "code",
   "execution_count": 74,
   "id": "b09ee41d",
   "metadata": {},
   "outputs": [],
   "source": [
    "# format() formats string into nicer output"
   ]
  },
  {
   "cell_type": "code",
   "execution_count": 75,
   "id": "d026fd23",
   "metadata": {},
   "outputs": [
    {
     "name": "stdout",
     "output_type": "stream",
     "text": [
      "I am Asabeneh Yetayeh. I am a teacher. I live in Finland.\n"
     ]
    }
   ],
   "source": [
    "first_name = 'Asabeneh'\n",
    "last_name = 'Yetayeh'\n",
    "job = 'teacher'\n",
    "country = 'Finland'\n",
    "sentence = 'I am {} {}. I am a {}. I live in {}.'.format(first_name, last_name, job, country)\n",
    "print(sentence) # I am Asabeneh Yetayeh. I am a teacher. I live in Finland."
   ]
  },
  {
   "cell_type": "code",
   "execution_count": 76,
   "id": "b5bfed16",
   "metadata": {},
   "outputs": [
    {
     "name": "stdout",
     "output_type": "stream",
     "text": [
      "The area of circle with 10 is 3.14\n"
     ]
    }
   ],
   "source": [
    "radius = 10\n",
    "pi = 3.14\n",
    "area = pi # radius ## 2\n",
    "result = 'The area of circle with {} is {}'.format(str(radius), str(area))\n",
    "print(result) # The area of circle with 10 is 314.0"
   ]
  },
  {
   "cell_type": "code",
   "execution_count": 77,
   "id": "6ee231cd",
   "metadata": {},
   "outputs": [],
   "source": [
    "# index(): returns the index of substring"
   ]
  },
  {
   "cell_type": "code",
   "execution_count": 78,
   "id": "1e21780b",
   "metadata": {},
   "outputs": [
    {
     "name": "stdout",
     "output_type": "stream",
     "text": [
      "5\n",
      "0\n"
     ]
    }
   ],
   "source": [
    "challenge = 'thirty days of python'\n",
    "print(challenge.find('y'))  # 5\n",
    "print(challenge.find('th')) # 0"
   ]
  },
  {
   "cell_type": "code",
   "execution_count": 79,
   "id": "c45dc5dd",
   "metadata": {},
   "outputs": [],
   "source": [
    "# isalnum(): check alphanumeric character"
   ]
  },
  {
   "cell_type": "code",
   "execution_count": 80,
   "id": "33be68d8",
   "metadata": {},
   "outputs": [
    {
     "name": "stdout",
     "output_type": "stream",
     "text": [
      "False\n"
     ]
    }
   ],
   "source": [
    "hallenge = 'ThirtyDaysPython'\n",
    "print(challenge.isalnum()) # True"
   ]
  },
  {
   "cell_type": "code",
   "execution_count": 81,
   "id": "60d67ebf",
   "metadata": {},
   "outputs": [
    {
     "name": "stdout",
     "output_type": "stream",
     "text": [
      "True\n"
     ]
    }
   ],
   "source": [
    "challenge = '30DaysPython'\n",
    "print(challenge.isalnum()) # True"
   ]
  },
  {
   "cell_type": "code",
   "execution_count": 82,
   "id": "4669d4c8",
   "metadata": {},
   "outputs": [
    {
     "name": "stdout",
     "output_type": "stream",
     "text": [
      "False\n"
     ]
    }
   ],
   "source": [
    "challenge = 'thirty days of python'\n",
    "print(challenge.isalnum()) # False"
   ]
  },
  {
   "cell_type": "code",
   "execution_count": 83,
   "id": "70d1e680",
   "metadata": {},
   "outputs": [
    {
     "name": "stdout",
     "output_type": "stream",
     "text": [
      "False\n"
     ]
    }
   ],
   "source": [
    "challenge = 'thirty days of python 2019'\n",
    "print(challenge.isalnum()) # False"
   ]
  },
  {
   "cell_type": "code",
   "execution_count": 84,
   "id": "3bbf28b9",
   "metadata": {},
   "outputs": [],
   "source": [
    "# isalpha(): check if all characters are alphabets"
   ]
  },
  {
   "cell_type": "code",
   "execution_count": 85,
   "id": "66ba21e7",
   "metadata": {},
   "outputs": [
    {
     "name": "stdout",
     "output_type": "stream",
     "text": [
      "False\n",
      "False\n"
     ]
    }
   ],
   "source": [
    "challenge = 'thirty days of python'\n",
    "print(challenge.isalpha()) # True\n",
    "num = '123'\n",
    "print(num.isalpha())      # False"
   ]
  },
  {
   "cell_type": "code",
   "execution_count": 86,
   "id": "8bdb0846",
   "metadata": {},
   "outputs": [],
   "source": [
    "# isdecimal(): check decimal characters"
   ]
  },
  {
   "cell_type": "code",
   "execution_count": 87,
   "id": "2ea60310",
   "metadata": {},
   "outputs": [
    {
     "name": "stdout",
     "output_type": "stream",
     "text": [
      "5\n",
      "0\n"
     ]
    }
   ],
   "source": [
    "challenge = 'thirty days of python'\n",
    "print(challenge.find('y'))  # 5\n",
    "print(challenge.find('th')) # 0"
   ]
  },
  {
   "cell_type": "code",
   "execution_count": 88,
   "id": "def56ce2",
   "metadata": {},
   "outputs": [],
   "source": [
    "# isdigit(): checks digit characters"
   ]
  },
  {
   "cell_type": "code",
   "execution_count": 90,
   "id": "52bc5e28",
   "metadata": {},
   "outputs": [
    {
     "name": "stdout",
     "output_type": "stream",
     "text": [
      "False\n",
      "True\n"
     ]
    }
   ],
   "source": [
    "challenge = 'Thirty'\n",
    "print(challenge.isdigit()) # False\n",
    "challenge = '30'\n",
    "print(challenge.isdigit())   # True\n"
   ]
  },
  {
   "cell_type": "code",
   "execution_count": 91,
   "id": "19187537",
   "metadata": {},
   "outputs": [],
   "source": [
    "# isdecimal(): checks decimal characters"
   ]
  },
  {
   "cell_type": "code",
   "execution_count": 92,
   "id": "2bd50ccf",
   "metadata": {},
   "outputs": [
    {
     "name": "stdout",
     "output_type": "stream",
     "text": [
      "True\n",
      "False\n"
     ]
    }
   ],
   "source": [
    "num = '10'\n",
    "print(num.isdecimal()) # True\n",
    "num = '10.5'\n",
    "print(num.isdecimal()) # False"
   ]
  },
  {
   "cell_type": "code",
   "execution_count": 93,
   "id": "a6fc0ed2",
   "metadata": {},
   "outputs": [],
   "source": [
    "# isidentifier(): Checks for valid identifier means it check if a string is a valid variable name"
   ]
  },
  {
   "cell_type": "code",
   "execution_count": 94,
   "id": "f9a6c77d",
   "metadata": {},
   "outputs": [
    {
     "name": "stdout",
     "output_type": "stream",
     "text": [
      "False\n",
      "True\n"
     ]
    }
   ],
   "source": [
    "challenge = '30DaysOfPython'\n",
    "print(challenge.isidentifier()) # False, because it starts with a number\n",
    "challenge = 'thirty_days_of_python'\n",
    "print(challenge.isidentifier()) # True"
   ]
  },
  {
   "cell_type": "code",
   "execution_count": 95,
   "id": "077631e2",
   "metadata": {},
   "outputs": [],
   "source": [
    "# islower(): Check if all alphabets in a string are lower case"
   ]
  },
  {
   "cell_type": "code",
   "execution_count": 96,
   "id": "fbaff4a6",
   "metadata": {},
   "outputs": [
    {
     "name": "stdout",
     "output_type": "stream",
     "text": [
      "True\n",
      "False\n"
     ]
    }
   ],
   "source": [
    "challenge = 'thirty days of python'\n",
    "print(challenge.islower()) # True\n",
    "challenge = 'Thirty days of python'\n",
    "print(challenge.islower()) # False"
   ]
  },
  {
   "cell_type": "code",
   "execution_count": 97,
   "id": "0044f791",
   "metadata": {},
   "outputs": [],
   "source": [
    "# issupper(): returns if all characters are uppercase characters"
   ]
  },
  {
   "cell_type": "code",
   "execution_count": 98,
   "id": "7585768d",
   "metadata": {},
   "outputs": [
    {
     "name": "stdout",
     "output_type": "stream",
     "text": [
      "False\n",
      "True\n"
     ]
    }
   ],
   "source": [
    "challenge = 'thirty days of python'\n",
    "print(challenge.isupper()) #  False\n",
    "challenge = 'THIRTY DAYS OF PYTHON'\n",
    "print(challenge.isupper()) # True"
   ]
  },
  {
   "cell_type": "code",
   "execution_count": 99,
   "id": "a1dd1e32",
   "metadata": {},
   "outputs": [],
   "source": [
    "# isnumeric():Checks numberic characters"
   ]
  },
  {
   "cell_type": "code",
   "execution_count": 100,
   "id": "c66ae12e",
   "metadata": {},
   "outputs": [
    {
     "name": "stdout",
     "output_type": "stream",
     "text": [
      "True\n",
      "False\n"
     ]
    }
   ],
   "source": [
    "num = '10'\n",
    "print(num.isnumeric())      # True\n",
    "print('ten'.isnumeric())    # False"
   ]
  },
  {
   "cell_type": "code",
   "execution_count": 101,
   "id": "269216f1",
   "metadata": {},
   "outputs": [
    {
     "name": "stdout",
     "output_type": "stream",
     "text": [
      "True\n",
      "False\n"
     ]
    }
   ],
   "source": [
    "num = '10'\n",
    "print(num.isnumeric())      # True\n",
    "print('ten'.isnumeric())    # False"
   ]
  },
  {
   "cell_type": "code",
   "execution_count": 102,
   "id": "32c060a7",
   "metadata": {},
   "outputs": [],
   "source": [
    "# join(): Returns a concatenated string"
   ]
  },
  {
   "cell_type": "code",
   "execution_count": 103,
   "id": "319a5d90",
   "metadata": {},
   "outputs": [
    {
     "name": "stdout",
     "output_type": "stream",
     "text": [
      "HTML#, CSS#, JavaScript#, React\n"
     ]
    }
   ],
   "source": [
    "web_tech = ['HTML', 'CSS', 'JavaScript', 'React']\n",
    "result = '#, '.join(web_tech)\n",
    "print(result) # 'HTML# CSS# JavaScript# React'"
   ]
  },
  {
   "cell_type": "code",
   "execution_count": 104,
   "id": "d62714dd",
   "metadata": {},
   "outputs": [],
   "source": [
    "# strip(): Removes both leading and trailing characters"
   ]
  },
  {
   "cell_type": "code",
   "execution_count": 105,
   "id": "f9aabcad",
   "metadata": {},
   "outputs": [
    {
     "name": "stdout",
     "output_type": "stream",
     "text": [
      " thirty days of python \n"
     ]
    }
   ],
   "source": [
    "challenge = ' thirty days of python '\n",
    "print(challenge.strip('y')) # 5\n"
   ]
  },
  {
   "cell_type": "code",
   "execution_count": 106,
   "id": "2f68508f",
   "metadata": {},
   "outputs": [],
   "source": [
    "# replace(): replaces substring inside"
   ]
  },
  {
   "cell_type": "code",
   "execution_count": 107,
   "id": "a4bf5625",
   "metadata": {},
   "outputs": [
    {
     "name": "stdout",
     "output_type": "stream",
     "text": [
      "thirty days of coding\n"
     ]
    }
   ],
   "source": [
    "challenge = 'thirty days of python'\n",
    "print(challenge.replace('python', 'coding')) # 'thirty days of coding'"
   ]
  },
  {
   "cell_type": "code",
   "execution_count": 108,
   "id": "b70701da",
   "metadata": {},
   "outputs": [],
   "source": [
    "# split(): splists string from left"
   ]
  },
  {
   "cell_type": "code",
   "execution_count": 109,
   "id": "497806ec",
   "metadata": {},
   "outputs": [
    {
     "name": "stdout",
     "output_type": "stream",
     "text": [
      "['thirty', 'days', 'of', 'python']\n"
     ]
    }
   ],
   "source": [
    "challenge = 'thirty days of python'\n",
    "print(challenge.split()) # ['thirty', 'days', 'of', 'python']"
   ]
  },
  {
   "cell_type": "code",
   "execution_count": 110,
   "id": "d50dd1a1",
   "metadata": {},
   "outputs": [],
   "source": [
    "# title(): returns a title cased string"
   ]
  },
  {
   "cell_type": "code",
   "execution_count": 111,
   "id": "f43be19a",
   "metadata": {},
   "outputs": [
    {
     "name": "stdout",
     "output_type": "stream",
     "text": [
      "Thirty Days Of Python\n"
     ]
    }
   ],
   "source": [
    "hallenge = 'thirty days of python'\n",
    "print(challenge.title()) # Thirty Days Of Python"
   ]
  },
  {
   "cell_type": "code",
   "execution_count": 112,
   "id": "8c14dd78",
   "metadata": {},
   "outputs": [],
   "source": [
    "# swapcase(): checks if string starts with the specified string"
   ]
  },
  {
   "cell_type": "code",
   "execution_count": 113,
   "id": "810a05ad",
   "metadata": {},
   "outputs": [
    {
     "name": "stdout",
     "output_type": "stream",
     "text": [
      "THIRTY DAYS OF PYTHON\n",
      "tHIRTY dAYS oF pYTHON\n"
     ]
    }
   ],
   "source": [
    "challenge = 'thirty days of python'\n",
    "print(challenge.swapcase())   # THIRTY DAYS OF PYTHON\n",
    "challenge = 'Thirty Days Of Python'\n",
    "print(challenge.swapcase())  # tHIRTY dAYS oF pYTHON"
   ]
  },
  {
   "cell_type": "code",
   "execution_count": 114,
   "id": "b7fe39c2",
   "metadata": {},
   "outputs": [],
   "source": [
    "# startswith(): checks if string starts with the specified string"
   ]
  },
  {
   "cell_type": "code",
   "execution_count": 115,
   "id": "2008685b",
   "metadata": {},
   "outputs": [
    {
     "name": "stdout",
     "output_type": "stream",
     "text": [
      "THIRTY DAYS OF PYTHON\n",
      "tHIRTY dAYS oF pYTHON\n"
     ]
    }
   ],
   "source": [
    "challenge = 'thirty days of python'\n",
    "print(challenge.swapcase())   # THIRTY DAYS OF PYTHON\n",
    "challenge = 'Thirty Days Of Python'\n",
    "print(challenge.swapcase())  # tHIRTY dAYS oF pYTHON"
   ]
  },
  {
   "cell_type": "code",
   "execution_count": null,
   "id": "97bbc29f",
   "metadata": {},
   "outputs": [],
   "source": []
  }
 ],
 "metadata": {
  "kernelspec": {
   "display_name": ".venv",
   "language": "python",
   "name": "python3"
  },
  "language_info": {
   "codemirror_mode": {
    "name": "ipython",
    "version": 3
   },
   "file_extension": ".py",
   "mimetype": "text/x-python",
   "name": "python",
   "nbconvert_exporter": "python",
   "pygments_lexer": "ipython3",
   "version": "3.11.9"
  }
 },
 "nbformat": 4,
 "nbformat_minor": 5
}
