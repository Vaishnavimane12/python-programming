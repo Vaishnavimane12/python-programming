{
 "cells": [
  {
   "cell_type": "markdown",
   "id": "80e7ae79",
   "metadata": {},
   "source": [
    "# Sets\n",
    "1) Unordered & Unindexed collection of items. \n",
    "2) Set elements are unique. Duplicate elements are not allowed. \n",
    "3) Set elements are immutable (cannot be changed). \n",
    "4) Set itself is mutable. We can add or remove items from it. "
   ]
  },
  {
   "cell_type": "markdown",
   "id": "2bea5995",
   "metadata": {},
   "source": [
    "# Set Creation"
   ]
  },
  {
   "cell_type": "code",
   "execution_count": 16,
   "id": "53aded77",
   "metadata": {},
   "outputs": [
    {
     "data": {
      "text/plain": [
       "{1, 2, 3, 4, 5}"
      ]
     },
     "execution_count": 16,
     "metadata": {},
     "output_type": "execute_result"
    }
   ],
   "source": [
    "myset = {1,2,3,4,5} # Set of numbers\n",
    "myset"
   ]
  },
  {
   "cell_type": "code",
   "execution_count": 17,
   "id": "72409768",
   "metadata": {},
   "outputs": [
    {
     "data": {
      "text/plain": [
       "5"
      ]
     },
     "execution_count": 17,
     "metadata": {},
     "output_type": "execute_result"
    }
   ],
   "source": [
    "len(myset) # Length of the set"
   ]
  },
  {
   "cell_type": "code",
   "execution_count": 18,
   "id": "852ed2f6",
   "metadata": {},
   "outputs": [
    {
     "data": {
      "text/plain": [
       "{1, 2, 3, 4, 5}"
      ]
     },
     "execution_count": 18,
     "metadata": {},
     "output_type": "execute_result"
    }
   ],
   "source": [
    "my_set = {1,1,2,2,3,4,5,5} # Duplicate elements are not allowed\n",
    "my_set"
   ]
  },
  {
   "cell_type": "code",
   "execution_count": 19,
   "id": "10dc207f",
   "metadata": {},
   "outputs": [
    {
     "data": {
      "text/plain": [
       "{1.79, 2.08, 3.99, 4.56, 5.45}"
      ]
     },
     "execution_count": 19,
     "metadata": {},
     "output_type": "execute_result"
    }
   ],
   "source": [
    "myset1 = {1.79,2.08,3.99,4.56,5.45} # Set of floats\n",
    "myset1"
   ]
  },
  {
   "cell_type": "code",
   "execution_count": 20,
   "id": "03070e23",
   "metadata": {},
   "outputs": [
    {
     "data": {
      "text/plain": [
       "{'Abhi', 'sangu', 'vaishu'}"
      ]
     },
     "execution_count": 20,
     "metadata": {},
     "output_type": "execute_result"
    }
   ],
   "source": [
    "myset2 = {'vaishu','sangu','Abhi'} # Set of strings\n",
    "myset2"
   ]
  },
  {
   "cell_type": "code",
   "execution_count": 21,
   "id": "c286e07a",
   "metadata": {},
   "outputs": [
    {
     "data": {
      "text/plain": [
       "{(11, 22, 33), 10, 20, 'vaishu'}"
      ]
     },
     "execution_count": 21,
     "metadata": {},
     "output_type": "execute_result"
    }
   ],
   "source": [
    "myset3 = {10,20,\"vaishu\",(11,22,33)} #Mixed data types\n",
    "myset3"
   ]
  },
  {
   "cell_type": "code",
   "execution_count": 22,
   "id": "da343721",
   "metadata": {},
   "outputs": [
    {
     "ename": "TypeError",
     "evalue": "unhashable type: 'list'",
     "output_type": "error",
     "traceback": [
      "\u001b[31m---------------------------------------------------------------------------\u001b[39m",
      "\u001b[31mTypeError\u001b[39m                                 Traceback (most recent call last)",
      "\u001b[36mCell\u001b[39m\u001b[36m \u001b[39m\u001b[32mIn[22]\u001b[39m\u001b[32m, line 1\u001b[39m\n\u001b[32m----> \u001b[39m\u001b[32m1\u001b[39m myset3= {\u001b[32m10\u001b[39m,\u001b[32m20\u001b[39m,\u001b[33m\"\u001b[39m\u001b[33mvaishu\u001b[39m\u001b[33m\"\u001b[39m,[\u001b[32m11\u001b[39m,\u001b[32m22\u001b[39m,\u001b[32m33\u001b[39m]} \u001b[38;5;66;03m# Set doesn't allow mutable data types\u001b[39;00m\n\u001b[32m      2\u001b[39m myset3\n",
      "\u001b[31mTypeError\u001b[39m: unhashable type: 'list'"
     ]
    }
   ],
   "source": [
    "myset3= {10,20,\"vaishu\",[11,22,33]} # Set doesn't allow mutable data types\n",
    "myset3"
   ]
  },
  {
   "cell_type": "code",
   "execution_count": null,
   "id": "1c4ce53a",
   "metadata": {},
   "outputs": [
    {
     "name": "stdout",
     "output_type": "stream",
     "text": [
      "<class 'set'>\n"
     ]
    }
   ],
   "source": [
    "myset4 = set() # Creat an empty set\n",
    "print(type(myset4))"
   ]
  },
  {
   "cell_type": "code",
   "execution_count": null,
   "id": "c147c615",
   "metadata": {},
   "outputs": [
    {
     "data": {
      "text/plain": [
       "{1.79, 2.08, 3.99, 4.56, 5.45}"
      ]
     },
     "execution_count": 11,
     "metadata": {},
     "output_type": "execute_result"
    }
   ],
   "source": [
    "my_set1 =set(('one' , 'two' , 'three' , 'four')) \n",
    "myset1"
   ]
  },
  {
   "cell_type": "markdown",
   "id": "bbf31ea5",
   "metadata": {},
   "source": [
    "# Loop through a set"
   ]
  },
  {
   "cell_type": "code",
   "execution_count": null,
   "id": "328180a7",
   "metadata": {},
   "outputs": [],
   "source": [
    "myset = {'one','two','three','four','five','six','seven','eight'}\n"
   ]
  },
  {
   "cell_type": "code",
   "execution_count": null,
   "id": "70c672f3",
   "metadata": {},
   "outputs": [
    {
     "name": "stdout",
     "output_type": "stream",
     "text": [
      "five\n",
      "eight\n",
      "two\n",
      "one\n",
      "four\n",
      "six\n",
      "three\n",
      "seven\n"
     ]
    }
   ],
   "source": [
    "for i in myset:\n",
    "    print(i)"
   ]
  },
  {
   "cell_type": "code",
   "execution_count": null,
   "id": "4537ce89",
   "metadata": {},
   "outputs": [
    {
     "name": "stdout",
     "output_type": "stream",
     "text": [
      "(0, 'five')\n",
      "(1, 'eight')\n",
      "(2, 'two')\n",
      "(3, 'one')\n",
      "(4, 'four')\n",
      "(5, 'six')\n",
      "(6, 'three')\n",
      "(7, 'seven')\n"
     ]
    }
   ],
   "source": [
    "for i in enumerate(myset):\n",
    "    print(i)"
   ]
  },
  {
   "cell_type": "markdown",
   "id": "235e1f42",
   "metadata": {},
   "source": [
    "# Set Membership"
   ]
  },
  {
   "cell_type": "code",
   "execution_count": null,
   "id": "35456969",
   "metadata": {},
   "outputs": [
    {
     "data": {
      "text/plain": [
       "{'eight', 'five', 'four', 'one', 'seven', 'six', 'three', 'two'}"
      ]
     },
     "execution_count": 4,
     "metadata": {},
     "output_type": "execute_result"
    }
   ],
   "source": [
    "myset"
   ]
  },
  {
   "cell_type": "code",
   "execution_count": null,
   "id": "2c75a264",
   "metadata": {},
   "outputs": [
    {
     "data": {
      "text/plain": [
       "True"
      ]
     },
     "execution_count": 5,
     "metadata": {},
     "output_type": "execute_result"
    }
   ],
   "source": [
    "'one' in myset # Check if 'one' is exist the set"
   ]
  },
  {
   "cell_type": "code",
   "execution_count": null,
   "id": "4f051f35",
   "metadata": {},
   "outputs": [
    {
     "data": {
      "text/plain": [
       "False"
      ]
     },
     "execution_count": 6,
     "metadata": {},
     "output_type": "execute_result"
    }
   ],
   "source": [
    "'ten' in myset # Check if 'ten' is exist the set"
   ]
  },
  {
   "cell_type": "code",
   "execution_count": null,
   "id": "13f59393",
   "metadata": {},
   "outputs": [
    {
     "name": "stdout",
     "output_type": "stream",
     "text": [
      "Three is present in the set\n"
     ]
    }
   ],
   "source": [
    "if 'three' in myset: # Check if 'three' is exist in the set\n",
    "    print('Three is present in the set')\n",
    "else:\n",
    "    print('Three is not present in the set')    "
   ]
  },
  {
   "cell_type": "code",
   "execution_count": null,
   "id": "7d6066cb",
   "metadata": {},
   "outputs": [
    {
     "name": "stdout",
     "output_type": "stream",
     "text": [
      "Eleven is not present in the set\n"
     ]
    }
   ],
   "source": [
    "if 'eleven' in myset: # Check if 'eleven' is exist in the set\n",
    "    print('Eleven is present in the set')\n",
    "else:\n",
    "    print('Eleven is not present in the set')    "
   ]
  },
  {
   "cell_type": "markdown",
   "id": "527db081",
   "metadata": {},
   "source": [
    "# Add & Remove items"
   ]
  },
  {
   "cell_type": "code",
   "execution_count": null,
   "id": "4908c2fe",
   "metadata": {},
   "outputs": [
    {
     "data": {
      "text/plain": [
       "{'eight', 'five', 'four', 'one', 'seven', 'six', 'three', 'two'}"
      ]
     },
     "execution_count": 10,
     "metadata": {},
     "output_type": "execute_result"
    }
   ],
   "source": [
    "myset"
   ]
  },
  {
   "cell_type": "code",
   "execution_count": null,
   "id": "88254cb0",
   "metadata": {},
   "outputs": [
    {
     "data": {
      "text/plain": [
       "{'NINE', 'eight', 'five', 'four', 'one', 'seven', 'six', 'three', 'two'}"
      ]
     },
     "execution_count": 11,
     "metadata": {},
     "output_type": "execute_result"
    }
   ],
   "source": [
    "myset.add('NINE') # Add item to set using add() method\n",
    "myset"
   ]
  },
  {
   "cell_type": "code",
   "execution_count": null,
   "id": "ab34bf0f",
   "metadata": {},
   "outputs": [
    {
     "data": {
      "text/plain": [
       "{'ELEVEN',\n",
       " 'NINE',\n",
       " 'TEN',\n",
       " 'TWELVE',\n",
       " 'eight',\n",
       " 'five',\n",
       " 'four',\n",
       " 'one',\n",
       " 'seven',\n",
       " 'six',\n",
       " 'three',\n",
       " 'two'}"
      ]
     },
     "execution_count": 12,
     "metadata": {},
     "output_type": "execute_result"
    }
   ],
   "source": [
    "myset.update(['TEN','ELEVEN','TWELVE']) # Add multiple items to set using update() method\n",
    "myset"
   ]
  },
  {
   "cell_type": "code",
   "execution_count": null,
   "id": "20964058",
   "metadata": {},
   "outputs": [
    {
     "data": {
      "text/plain": [
       "{'ELEVEN',\n",
       " 'TEN',\n",
       " 'TWELVE',\n",
       " 'eight',\n",
       " 'five',\n",
       " 'four',\n",
       " 'one',\n",
       " 'seven',\n",
       " 'six',\n",
       " 'three',\n",
       " 'two'}"
      ]
     },
     "execution_count": 13,
     "metadata": {},
     "output_type": "execute_result"
    }
   ],
   "source": [
    "myset.remove('NINE') # Remove item from set using remove() method\n",
    "myset"
   ]
  },
  {
   "cell_type": "code",
   "execution_count": null,
   "id": "5685d925",
   "metadata": {},
   "outputs": [
    {
     "data": {
      "text/plain": [
       "{'ELEVEN',\n",
       " 'TWELVE',\n",
       " 'eight',\n",
       " 'five',\n",
       " 'four',\n",
       " 'one',\n",
       " 'seven',\n",
       " 'six',\n",
       " 'three',\n",
       " 'two'}"
      ]
     },
     "execution_count": 14,
     "metadata": {},
     "output_type": "execute_result"
    }
   ],
   "source": [
    "myset.discard('TEN') # Remove item from set using discard() method\n",
    "myset"
   ]
  },
  {
   "cell_type": "code",
   "execution_count": null,
   "id": "97b8421d",
   "metadata": {},
   "outputs": [
    {
     "data": {
      "text/plain": [
       "set()"
      ]
     },
     "execution_count": 15,
     "metadata": {},
     "output_type": "execute_result"
    }
   ],
   "source": [
    "myset.clear() # Delete all items from set using clear() method\n",
    "myset"
   ]
  },
  {
   "cell_type": "code",
   "execution_count": 23,
   "id": "9080ef05",
   "metadata": {},
   "outputs": [
    {
     "ename": "NameError",
     "evalue": "name 'myset' is not defined",
     "output_type": "error",
     "traceback": [
      "\u001b[31m---------------------------------------------------------------------------\u001b[39m",
      "\u001b[31mNameError\u001b[39m                                 Traceback (most recent call last)",
      "\u001b[36mCell\u001b[39m\u001b[36m \u001b[39m\u001b[32mIn[23]\u001b[39m\u001b[32m, line 2\u001b[39m\n\u001b[32m      1\u001b[39m \u001b[38;5;28;01mdel\u001b[39;00m myset \u001b[38;5;66;03m# Delete the set object\u001b[39;00m\n\u001b[32m----> \u001b[39m\u001b[32m2\u001b[39m \u001b[43mmyset\u001b[49m\n",
      "\u001b[31mNameError\u001b[39m: name 'myset' is not defined"
     ]
    }
   ],
   "source": [
    "del myset # Delete the set object\n",
    "myset"
   ]
  },
  {
   "cell_type": "markdown",
   "id": "239bb593",
   "metadata": {},
   "source": [
    "# Copy Set"
   ]
  },
  {
   "cell_type": "code",
   "execution_count": 24,
   "id": "7e4ea830",
   "metadata": {},
   "outputs": [
    {
     "data": {
      "text/plain": [
       "{'eight', 'five', 'four', 'one', 'seven', 'six', 'three', 'two'}"
      ]
     },
     "execution_count": 24,
     "metadata": {},
     "output_type": "execute_result"
    }
   ],
   "source": [
    "myset = {'one', 'two','three','four','five','six','seven','eight'}\n",
    "myset"
   ]
  },
  {
   "cell_type": "code",
   "execution_count": 25,
   "id": "9ac20929",
   "metadata": {},
   "outputs": [
    {
     "data": {
      "text/plain": [
       "{'eight', 'five', 'four', 'one', 'seven', 'six', 'three', 'two'}"
      ]
     },
     "execution_count": 25,
     "metadata": {},
     "output_type": "execute_result"
    }
   ],
   "source": [
    "myset1 = myset # Create a reference to the set\n",
    "myset1"
   ]
  },
  {
   "cell_type": "code",
   "execution_count": 26,
   "id": "77aa2a51",
   "metadata": {},
   "outputs": [
    {
     "data": {
      "text/plain": [
       "(2220789418912, 2220789418912)"
      ]
     },
     "execution_count": 26,
     "metadata": {},
     "output_type": "execute_result"
    }
   ],
   "source": [
    "id(myset), id(myset1) # The address of both myset & myset1 will be the same as they are pointing to the same object\n"
   ]
  },
  {
   "cell_type": "code",
   "execution_count": 27,
   "id": "84752b5f",
   "metadata": {},
   "outputs": [
    {
     "data": {
      "text/plain": [
       "{'eight', 'five', 'four', 'one', 'seven', 'six', 'three', 'two'}"
      ]
     },
     "execution_count": 27,
     "metadata": {},
     "output_type": "execute_result"
    }
   ],
   "source": [
    "my_set = myset.copy() # Create a copy of the set\n",
    "my_set"
   ]
  },
  {
   "cell_type": "code",
   "execution_count": 28,
   "id": "fd817a29",
   "metadata": {},
   "outputs": [
    {
     "data": {
      "text/plain": [
       "2220789420032"
      ]
     },
     "execution_count": 28,
     "metadata": {},
     "output_type": "execute_result"
    }
   ],
   "source": [
    "id(my_set) # The address of my_set will be different from myset & myset1 as it is a new object"
   ]
  },
  {
   "cell_type": "code",
   "execution_count": 29,
   "id": "a462bed3",
   "metadata": {},
   "outputs": [
    {
     "data": {
      "text/plain": [
       "{'eight', 'five', 'four', 'nine', 'one', 'seven', 'six', 'three', 'two'}"
      ]
     },
     "execution_count": 29,
     "metadata": {},
     "output_type": "execute_result"
    }
   ],
   "source": [
    "myset.add('nine')\n",
    "myset"
   ]
  },
  {
   "cell_type": "code",
   "execution_count": 30,
   "id": "febc891f",
   "metadata": {},
   "outputs": [
    {
     "data": {
      "text/plain": [
       "{'eight', 'five', 'four', 'nine', 'one', 'seven', 'six', 'three', 'two'}"
      ]
     },
     "execution_count": 30,
     "metadata": {},
     "output_type": "execute_result"
    }
   ],
   "source": [
    "myset1 # myset1 will be also imapacted as it is a reference to the same object"
   ]
  },
  {
   "cell_type": "code",
   "execution_count": 31,
   "id": "f11b1b85",
   "metadata": {},
   "outputs": [
    {
     "data": {
      "text/plain": [
       "{'eight', 'five', 'four', 'one', 'seven', 'six', 'three', 'two'}"
      ]
     },
     "execution_count": 31,
     "metadata": {},
     "output_type": "execute_result"
    }
   ],
   "source": [
    "my_set # Copy of the set wan't be impacted as it is a new object"
   ]
  },
  {
   "cell_type": "markdown",
   "id": "ab8187a7",
   "metadata": {},
   "source": [
    "# Set Operation\n",
    " * Union"
   ]
  },
  {
   "cell_type": "code",
   "execution_count": 32,
   "id": "a373fc06",
   "metadata": {},
   "outputs": [],
   "source": [
    "A = {1,2,3,4,5}\n",
    "B = {4,5,6,7,8}\n",
    "C = {8,9,10}"
   ]
  },
  {
   "cell_type": "code",
   "execution_count": 33,
   "id": "bce9c64c",
   "metadata": {},
   "outputs": [
    {
     "data": {
      "text/plain": [
       "{1, 2, 3, 4, 5, 6, 7, 8}"
      ]
     },
     "execution_count": 33,
     "metadata": {},
     "output_type": "execute_result"
    }
   ],
   "source": [
    "A|B # Union of A and B (All elements from both sets. NO duplicates)"
   ]
  },
  {
   "cell_type": "code",
   "execution_count": 35,
   "id": "78289953",
   "metadata": {},
   "outputs": [
    {
     "data": {
      "text/plain": [
       "{1, 2, 3, 4, 5, 6, 7, 8}"
      ]
     },
     "execution_count": 35,
     "metadata": {},
     "output_type": "execute_result"
    }
   ],
   "source": [
    "A.union(B) # Union of A and B"
   ]
  },
  {
   "cell_type": "code",
   "execution_count": 36,
   "id": "2293d529",
   "metadata": {},
   "outputs": [
    {
     "data": {
      "text/plain": [
       "{1, 2, 3, 4, 5, 6, 7, 8, 9, 10}"
      ]
     },
     "execution_count": 36,
     "metadata": {},
     "output_type": "execute_result"
    }
   ],
   "source": [
    "A.union(B,C) # union of A,B and C"
   ]
  },
  {
   "cell_type": "markdown",
   "id": "276b98c0",
   "metadata": {},
   "source": [
    "\n",
    "\"\"\" \n",
    "Updates the set calling the update() method with union of A , B & C. \n",
    "For below example Set A will be updated with union of A,B & C. \n",
    "\"\"\" "
   ]
  },
  {
   "cell_type": "code",
   "execution_count": 38,
   "id": "896ff68a",
   "metadata": {},
   "outputs": [
    {
     "data": {
      "text/plain": [
       "{1, 2, 3, 4, 5, 6, 7, 8, 9, 10}"
      ]
     },
     "execution_count": 38,
     "metadata": {},
     "output_type": "execute_result"
    }
   ],
   "source": [
    "A.update(B,C) \n",
    "A"
   ]
  },
  {
   "cell_type": "markdown",
   "id": "8e807001",
   "metadata": {},
   "source": [
    "# Intersection"
   ]
  },
  {
   "cell_type": "code",
   "execution_count": 39,
   "id": "f8cfa833",
   "metadata": {},
   "outputs": [],
   "source": [
    "A = {1,2,3,4,5}\n",
    "B = {4,5,6,7,8}"
   ]
  },
  {
   "cell_type": "code",
   "execution_count": 40,
   "id": "3d9ae705",
   "metadata": {},
   "outputs": [
    {
     "data": {
      "text/plain": [
       "{4, 5}"
      ]
     },
     "execution_count": 40,
     "metadata": {},
     "output_type": "execute_result"
    }
   ],
   "source": [
    "A & B # Intersection of A and B (Common elements in both sets)"
   ]
  },
  {
   "cell_type": "code",
   "execution_count": 42,
   "id": "bf45ef1f",
   "metadata": {},
   "outputs": [
    {
     "data": {
      "text/plain": [
       "{4, 5}"
      ]
     },
     "execution_count": 42,
     "metadata": {},
     "output_type": "execute_result"
    }
   ],
   "source": [
    "A.intersection(B) #Intersection of A and B"
   ]
  },
  {
   "cell_type": "code",
   "execution_count": 43,
   "id": "275af182",
   "metadata": {},
   "outputs": [
    {
     "data": {
      "text/plain": [
       "{6, 7, 8}"
      ]
     },
     "execution_count": 43,
     "metadata": {},
     "output_type": "execute_result"
    }
   ],
   "source": [
    "B - A # set of elements in B but not in A"
   ]
  },
  {
   "cell_type": "code",
   "execution_count": 44,
   "id": "520dda88",
   "metadata": {},
   "outputs": [
    {
     "data": {
      "text/plain": [
       "{6, 7, 8}"
      ]
     },
     "execution_count": 44,
     "metadata": {},
     "output_type": "execute_result"
    }
   ],
   "source": [
    "B.difference(A)"
   ]
  },
  {
   "cell_type": "markdown",
   "id": "a95b6740",
   "metadata": {},
   "source": [
    "\n",
    "\"\"\" \n",
    "Updates the set calling the difference_update() method with the difference of se \n",
    "For below example Set B will be updated with the difference of B & A. \n",
    "\"\"\" "
   ]
  },
  {
   "cell_type": "code",
   "execution_count": 45,
   "id": "3fcb7b00",
   "metadata": {},
   "outputs": [
    {
     "data": {
      "text/plain": [
       "{6, 7, 8}"
      ]
     },
     "execution_count": 45,
     "metadata": {},
     "output_type": "execute_result"
    }
   ],
   "source": [
    "B.difference_update(A) \n",
    "B"
   ]
  },
  {
   "cell_type": "markdown",
   "id": "d17f9a1f",
   "metadata": {},
   "source": [
    "# Symmetric Difference"
   ]
  },
  {
   "cell_type": "code",
   "execution_count": 46,
   "id": "665f2593",
   "metadata": {},
   "outputs": [],
   "source": [
    "A = {1,2,3,4,5}\n",
    "B = {4,5,6,7,8}"
   ]
  },
  {
   "cell_type": "code",
   "execution_count": 47,
   "id": "ad7247ea",
   "metadata": {},
   "outputs": [
    {
     "data": {
      "text/plain": [
       "{1, 2, 3, 6, 7, 8}"
      ]
     },
     "execution_count": 47,
     "metadata": {},
     "output_type": "execute_result"
    }
   ],
   "source": [
    "A ^ B # symmetric difference (set of elements in A or B but not in both)    "
   ]
  },
  {
   "cell_type": "code",
   "execution_count": 49,
   "id": "65b5d876",
   "metadata": {},
   "outputs": [
    {
     "data": {
      "text/plain": [
       "{1, 2, 3, 6, 7, 8}"
      ]
     },
     "execution_count": 49,
     "metadata": {},
     "output_type": "execute_result"
    }
   ],
   "source": [
    "A .symmetric_difference(B) #systemic difference o sets"
   ]
  },
  {
   "cell_type": "markdown",
   "id": "0f3a36f5",
   "metadata": {},
   "source": [
    " \n",
    "\"\"\" \n",
    "Updates the set calling the symmetric_difference_update() method with the symmet \n",
    "For below example Set A will be updated with the symmetric difference of A & B. \n",
    "\"\"\" "
   ]
  },
  {
   "cell_type": "code",
   "execution_count": 50,
   "id": "63c0e0f2",
   "metadata": {},
   "outputs": [
    {
     "data": {
      "text/plain": [
       "{1, 2, 3, 6, 7, 8}"
      ]
     },
     "execution_count": 50,
     "metadata": {},
     "output_type": "execute_result"
    }
   ],
   "source": [
    "A.symmetric_difference_update(B) \n",
    "A"
   ]
  },
  {
   "cell_type": "markdown",
   "id": "aceb55de",
   "metadata": {},
   "source": [
    "# Subset,Superset & Disjoint"
   ]
  },
  {
   "cell_type": "code",
   "execution_count": 51,
   "id": "5f154e39",
   "metadata": {},
   "outputs": [],
   "source": [
    "A = {1,2,3,4,5,6,7,8,9}\n",
    "B = {3,4,5,6,7,8}\n",
    "C = {10,20,30,40}"
   ]
  },
  {
   "cell_type": "code",
   "execution_count": 52,
   "id": "fdf8b05f",
   "metadata": {},
   "outputs": [
    {
     "data": {
      "text/plain": [
       "True"
      ]
     },
     "execution_count": 52,
     "metadata": {},
     "output_type": "execute_result"
    }
   ],
   "source": [
    "B.issubset(A) # Set B is said to be the subset of A if all elements of B are in A"
   ]
  },
  {
   "cell_type": "code",
   "execution_count": 54,
   "id": "36193f72",
   "metadata": {},
   "outputs": [
    {
     "data": {
      "text/plain": [
       "True"
      ]
     },
     "execution_count": 54,
     "metadata": {},
     "output_type": "execute_result"
    }
   ],
   "source": [
    "A.issuperset(B) # Set A is said to be the subset of B if all elements of A are in B   "
   ]
  },
  {
   "cell_type": "code",
   "execution_count": 56,
   "id": "755caba2",
   "metadata": {},
   "outputs": [
    {
     "data": {
      "text/plain": [
       "True"
      ]
     },
     "execution_count": 56,
     "metadata": {},
     "output_type": "execute_result"
    }
   ],
   "source": [
    "C.isdisjoint(A) # Set C is said to be disjoint with A if there are no common elements in both sets"
   ]
  },
  {
   "cell_type": "code",
   "execution_count": 57,
   "id": "8858cac1",
   "metadata": {},
   "outputs": [
    {
     "data": {
      "text/plain": [
       "False"
      ]
     },
     "execution_count": 57,
     "metadata": {},
     "output_type": "execute_result"
    }
   ],
   "source": [
    "B.isdisjoint(A) # Set B is said to be disjoint with A if there are no common elements in both sets "
   ]
  },
  {
   "cell_type": "markdown",
   "id": "f1b637be",
   "metadata": {},
   "source": [
    "# Other Builtin functions"
   ]
  },
  {
   "cell_type": "code",
   "execution_count": 58,
   "id": "e2801cec",
   "metadata": {},
   "outputs": [
    {
     "data": {
      "text/plain": [
       "{1, 2, 3, 4, 5, 6, 7, 8, 9}"
      ]
     },
     "execution_count": 58,
     "metadata": {},
     "output_type": "execute_result"
    }
   ],
   "source": [
    "A"
   ]
  },
  {
   "cell_type": "code",
   "execution_count": 59,
   "id": "d5ca82fb",
   "metadata": {},
   "outputs": [
    {
     "data": {
      "text/plain": [
       "45"
      ]
     },
     "execution_count": 59,
     "metadata": {},
     "output_type": "execute_result"
    }
   ],
   "source": [
    "sum(A)"
   ]
  },
  {
   "cell_type": "code",
   "execution_count": 60,
   "id": "c7d1a346",
   "metadata": {},
   "outputs": [
    {
     "data": {
      "text/plain": [
       "9"
      ]
     },
     "execution_count": 60,
     "metadata": {},
     "output_type": "execute_result"
    }
   ],
   "source": [
    "max(A)"
   ]
  },
  {
   "cell_type": "code",
   "execution_count": 61,
   "id": "28023536",
   "metadata": {},
   "outputs": [
    {
     "data": {
      "text/plain": [
       "1"
      ]
     },
     "execution_count": 61,
     "metadata": {},
     "output_type": "execute_result"
    }
   ],
   "source": [
    "min(A)"
   ]
  },
  {
   "cell_type": "code",
   "execution_count": 62,
   "id": "a10a1523",
   "metadata": {},
   "outputs": [
    {
     "data": {
      "text/plain": [
       "9"
      ]
     },
     "execution_count": 62,
     "metadata": {},
     "output_type": "execute_result"
    }
   ],
   "source": [
    "len(A)"
   ]
  },
  {
   "cell_type": "code",
   "execution_count": 64,
   "id": "7a353830",
   "metadata": {},
   "outputs": [
    {
     "data": {
      "text/plain": [
       "[(0, 1), (1, 2), (2, 3), (3, 4), (4, 5), (5, 6), (6, 7), (7, 8), (8, 9)]"
      ]
     },
     "execution_count": 64,
     "metadata": {},
     "output_type": "execute_result"
    }
   ],
   "source": [
    "list(enumerate(A))"
   ]
  },
  {
   "cell_type": "code",
   "execution_count": 66,
   "id": "843ed355",
   "metadata": {},
   "outputs": [
    {
     "data": {
      "text/plain": [
       "[9, 8, 7, 6, 5, 4, 3, 2, 1]"
      ]
     },
     "execution_count": 66,
     "metadata": {},
     "output_type": "execute_result"
    }
   ],
   "source": [
    "D = sorted(A,reverse=True)\n",
    "D"
   ]
  },
  {
   "cell_type": "code",
   "execution_count": 67,
   "id": "86070d77",
   "metadata": {},
   "outputs": [
    {
     "data": {
      "text/plain": [
       "[1, 2, 3, 4, 5, 6, 7, 8, 9]"
      ]
     },
     "execution_count": 67,
     "metadata": {},
     "output_type": "execute_result"
    }
   ],
   "source": [
    "sorted(D)"
   ]
  }
 ],
 "metadata": {
  "kernelspec": {
   "display_name": ".venv",
   "language": "python",
   "name": "python3"
  },
  "language_info": {
   "codemirror_mode": {
    "name": "ipython",
    "version": 3
   },
   "file_extension": ".py",
   "mimetype": "text/x-python",
   "name": "python",
   "nbconvert_exporter": "python",
   "pygments_lexer": "ipython3",
   "version": "3.11.9"
  }
 },
 "nbformat": 4,
 "nbformat_minor": 5
}
